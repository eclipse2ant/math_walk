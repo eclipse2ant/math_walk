{
  "nbformat": 4,
  "nbformat_minor": 0,
  "metadata": {
    "colab": {
      "provenance": [],
      "include_colab_link": true
    },
    "kernelspec": {
      "name": "python3",
      "display_name": "Python 3"
    },
    "language_info": {
      "name": "python"
    }
  },
  "cells": [
    {
      "cell_type": "markdown",
      "metadata": {
        "id": "view-in-github",
        "colab_type": "text"
      },
      "source": [
        "<a href=\"https://colab.research.google.com/github/eclipse2ant/math_walk/blob/master/math_walk_9.ipynb\" target=\"_parent\"><img src=\"https://colab.research.google.com/assets/colab-badge.svg\" alt=\"Open In Colab\"/></a>"
      ]
    },
    {
      "cell_type": "markdown",
      "source": [
        "#9. 圏論 \n",
        "## 9.1. 圏 (Category) とは\n",
        "- 圏とは、集合と写像において、意味を抜いて、抽象化したものと言ったらいいでしょうか、category  $~\\cal C~$  において、その object (対象)  $A,B$　に対して morphism (射)  $f~$ を $~~A \\xrightarrow{f} B$ として、射の合成　$g\\circ f$ とか　恒等写像に当たるもの $1_A$ つまり  $1_B \\circ f = f \\circ 1_A$ が成り立っている。あと結合法則　$(h\\circ g) \\circ f = h\\circ(g \\circ f)$ が成り立っている。例えば　$\\cal{Sets}$　集合全体が対象で射が写像　って感じ、ただし、前回注意したように、これは非常に大きい、だからまず集合とは言えない、また圏に言葉を変えればよいかというと微妙、だからもうちょっと Univers って、宇宙をあらかじめ決めておいてとかいろいろあるけど、まあ、そこは今回はパス(^^;"
      ],
      "metadata": {
        "id": "9-PPJfmrItBC"
      }
    }
  ]
}