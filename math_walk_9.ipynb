{
  "nbformat": 4,
  "nbformat_minor": 0,
  "metadata": {
    "colab": {
      "provenance": [],
      "include_colab_link": true
    },
    "kernelspec": {
      "name": "python3",
      "display_name": "Python 3"
    },
    "language_info": {
      "name": "python"
    }
  },
  "cells": [
    {
      "cell_type": "markdown",
      "metadata": {
        "id": "view-in-github",
        "colab_type": "text"
      },
      "source": [
        "<a href=\"https://colab.research.google.com/github/eclipse2ant/math_walk/blob/master/math_walk_9.ipynb\" target=\"_parent\"><img src=\"https://colab.research.google.com/assets/colab-badge.svg\" alt=\"Open In Colab\"/></a>"
      ]
    },
    {
      "cell_type": "markdown",
      "source": [
        "#9. 圏論 \n",
        "## 9.1. 圏 (Category) とは\n",
        "- 圏とは、集合と写像において、意味を抜いて、抽象化したものと言ったらいいでしょうか、category  $~\\cal C~$  において、その object (対象)  $A,B$　に対して morphism (射)  $f~$ を $~~A \\xrightarrow{f} B$ として、射の合成　$g\\circ f$ とか　恒等写像に当たるもの $1_A$ つまり  $1_B \\circ f = f \\circ 1_A$ が成り立っている。あと結合法則　$(h\\circ g) \\circ f = h\\circ(g \\circ f)$ が成り立っている。例えば　$\\cal{Sets}$　集合全体が対象で射が写像　って感じ、ただし、前回注意したように、これは非常に大きい、だからまず集合とは言えない、また圏に言葉を変えればよいかというと微妙、だからもうちょっと Univers って、宇宙をあらかじめ決めておいてとかいろいろあるけど、まあ、そこは今回はパス(^^;"
      ],
      "metadata": {
        "id": "9-PPJfmrItBC"
      }
    },
    {
      "cell_type": "markdown",
      "source": [
        "## 9.2. Functor (関手) ,  自然変換\n",
        "- 圏 $\\cal C, D$ において、関手 $F$ とは、$\\cal C$ の対象の集まり $Ob(\\cal{C})$ から $Ob(\\cal{D})$ への対応で　さらに $X,Y$ を $\\cal C$ の対象、射 $X \\xrightarrow{f} Y$ としたとき、射  $F(X) \\xrightarrow{F(f)} F(Y)$ が定まり、$F(1_X)  = 1_{F(X)}, ~F(g \\circ f) = F(g)\\circ F(f)$ を満たすとき、共変関手といいます。その他のことは、これからのモナドを含めて、[プログラマのためのモナド入門(Youtube動画)](https://www.youtube.com/watch?v=fhuAlDPgi2Q) を見てください。この動画で、圏論におけるモナドについて、わかりやすく説明しています。 ここで出てくるプログラミング言語は、Haskell という関数型プログラミング言語です、この辺は、後でまた説明しますが、とりあえずモナドについて理解してください。"
      ],
      "metadata": {
        "id": "_xsDUPGUQBwA"
      }
    },
    {
      "cell_type": "markdown",
      "source": [
        "## 9.3. モナドについて\n",
        "\n",
        "- これは、三つの概念を抽象化してつなぎ合わせてます。一つはモノイドつまり演算 $m \\times m\\rightarrow m$　 $~m$ は集合で $m$ から二つ元をとるというのは $(a,b)∈m \\times m$ 　ここで $ m \\times m$ は $m$ の直積集合　つまり$m$ の元のペアからなる集合です。要は　足し算などの代数演算は　このような写像として描けるということです。今は足し算より掛け算で見た方が単位元は $1$ になるのでわかりやすいでしょう。モノイドは単位元つまり$1$を仮定します。\n"
      ],
      "metadata": {
        "id": "HSa2BxSsEBc-"
      }
    },
    {
      "cell_type": "markdown",
      "source": [
        "- これを抽象的に書きます。圏論的に見て中身を見ずに関係だけでみますと $m$ は単なる対象でここで　直積は　テンソル積 $\\otimes$ を使って $m\\otimes m$ と表します。演算は $m \\otimes m \\rightarrow m$  という射でしかるべき性質を満たすとします。単位元も何か１点が単位元を指し示す写像を考えれば $ \\bullet \\rightarrow m$ というのを抽象化して単位対象 $1$ にたいして $1 \\rightarrow m$がしかるべき性質を満たすとします。実は $m \\otimes m$ はベクトル空間でテンソル積を考えたカテゴリーの抽象化でモノイド圏と言われる圏になってます。この $m \\otimes m $は $m$  という bifuncto $\\cal{C} \\times\\cal{C} \\rightarrow \\cal{C}$　$\\cal C$ はモノイド圏　\n"
      ],
      "metadata": {
        "id": "mAK7-cokEuRZ"
      }
    },
    {
      "cell_type": "markdown",
      "source": [
        "- さてここで $\\cal A$ というカテゴリーがあったとして $Fun(\\cal A)$ を $\\cal A$ の自己関手のなす圏つまり $\\cal A$ から$\\cal A$ へのFunctor 全体からなるカテゴリーで射は自然変換で与えます。ここで $\\cal{C}=\\rm Fun(\\cal A)$ とおくと $m$ を $\\cal C$ の対象つまり $\\cal A$から $\\cal A$ への自己Functorとすると $m$と$m$の合成 $mm$ は $m\\otimes m$ とみなせます。つまり合成をテンソル積としてモノイド圏になっています。ここで最初に述べたモノイドを考えます、$a$ を $\\cal A$ の対象とすると $a \\rightarrow ma$ を射とするとこれは $1$というidentity functor から $m$ への自然変換 それと $mm \\rightarrow m$ という自然変換を与えることがモノイド対象を作ることになります。実際 モナド を Haskell で与えるときは $a \\rightarrow ma$ と $ma \\rightarrow (a \\rightarrow mb) \\rightarrow mb$  を与えます\n"
      ],
      "metadata": {
        "id": "_95e--dRGtfQ"
      }
    },
    {
      "cell_type": "markdown",
      "source": [
        "- 二番目の式は $(ma \\rightarrow (a \\rightarrow mb)) \\rightarrow mb$ で $ma$ と $a \\rightarrow mb$ という射を与えれば $ma$ を $mb$ に移す射を与えるということです。つまり $a \\rightarrow ma, ~(a \\rightarrow mb) \\rightarrow (ma \\rightarrow mb)$  が 与えられるということです。特に２番目の対応は $(ma \\rightarrow ma) \\rightarrow (mma \\rightarrow ma)$ となって $mm$ から $m$ への自然変換を与えます。逆の構成も可能で  $a \\rightarrow mb$ において $m$ は Functor だから $ma \\rightarrow mmb, ~mmb \\rightarrow mb$ を合成して $ma \\rightarrow mb$ を得られます。従って Haskell のモナドの記述は　モノイド対象を与えてます。だから三つの要素がうまく混ざり合ってモナドが定義されてるわけです。"
      ],
      "metadata": {
        "id": "Uz825x4_KGjY"
      }
    }
  ]
}