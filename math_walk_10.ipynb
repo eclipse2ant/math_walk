{
  "nbformat": 4,
  "nbformat_minor": 0,
  "metadata": {
    "colab": {
      "provenance": [],
      "include_colab_link": true
    },
    "kernelspec": {
      "name": "python3",
      "display_name": "Python 3"
    },
    "language_info": {
      "name": "python"
    }
  },
  "cells": [
    {
      "cell_type": "markdown",
      "metadata": {
        "id": "view-in-github",
        "colab_type": "text"
      },
      "source": [
        "<a href=\"https://colab.research.google.com/github/eclipse2ant/math_walk/blob/master/math_walk_10.ipynb\" target=\"_parent\"><img src=\"https://colab.research.google.com/assets/colab-badge.svg\" alt=\"Open In Colab\"/></a>"
      ]
    },
    {
      "cell_type": "markdown",
      "source": [
        "#10.  圏論（特に米田の補題）　関数型プログラミング　量子コンピュータ \n"
      ],
      "metadata": {
        "id": "9-PPJfmrItBC"
      }
    },
    {
      "cell_type": "markdown",
      "source": [
        "## 10.1. クオンタム思考\n",
        "- [「クオンタム思考　テクノロジーとビジネスの未来に先回りする新しい思考法」](https://www.amazon.co.jp/%E3%82%AF%E3%82%AA%E3%83%B3%E3%82%BF%E3%83%A0%E6%80%9D%E8%80%83-%E3%83%86%E3%82%AF%E3%83%8E%E3%83%AD%E3%82%B8%E3%83%BC%E3%81%A8%E3%83%93%E3%82%B8%E3%83%8D%E3%82%B9%E3%81%AE%E6%9C%AA%E6%9D%A5%E3%81%AB%E5%85%88%E5%9B%9E%E3%82%8A%E3%81%99%E3%82%8B%E6%96%B0%E3%81%97%E3%81%84%E6%80%9D%E8%80%83%E6%B3%95-%E6%9D%91%E4%B8%8A-%E6%86%B2%E9%83%8E-ebook/dp/B093727FGM/ref=tmm_kin_swatch_0?_encoding=UTF8&qid=1679546486&sr=8-1) は、村上 憲郎(むらかみ・のりお)氏(元グーグル米国本社副社長・日本法人社長) の書かれた本で非常に面白いです。例えば、**IMG_0285,jpg ～ IMG_0288.jpg** にあるように、グーグルのグーグルマップやポケモンGO　Google EarthなどのこれまでGoogke を大きくしていた人たちの発想ないしはｌ、イーロン・マスクのような人の発想をクオンタム思考とよんで、そのような発想を私たちがするにはどうすればよいか、また今の日本人に一番その部分が欠けている（教育面も含めて）という中で書かれてるものです。まず**<font color=\"red\">文系でもこれからは量子力学の知識が必要</font>** とか英語の勉強法とかその他さまざまなことが書かれてます。**<font color=\"red\">これからは量子コンピュータの時代、そして文系でもその原理を理解していなければこれからの時代も世界に通用しない。**</font>また発想 として**<font color=\"grenn\">量子論的な発想</font>**、それが特に引用した部分であり、つまり **<font color=\"red\">既存の発想を古典論として、言葉ではなくイメージで、何とかなく分かった感を大事に、答えにない問題に果敢にチャレンジしていくこと</font>** を求めています。面白い本ですので是非一読を勧めます。（もちろんAIもこの著者は考慮してます。それはすでに当然のこととしての量子コンピュータです。それはグーグル関係者ですから）\n"
      ],
      "metadata": {
        "id": "PhX7I-c9w4um"
      }
    },
    {
      "cell_type": "markdown",
      "source": [
        "## 10.2. 圏論とHaskell"
      ],
      "metadata": {
        "id": "1fyAgbUU1Jdu"
      }
    },
    {
      "cell_type": "markdown",
      "source": [
        "- 前回、圏論の話をした際 Haskell のモナドの話をしました。関数型プログラミングを理解するには Haskell が一番わかりやすいと思います。お勧めは、[すごいHaskellたのしく学ぼう！ オーム社](https://www.amazon.co.jp/gp/product/B009RO80XY/ref=ppx_yo_dt_b_search_asin_title?ie=UTF8&psc=1) です。実際にコードを動かしながら行うのは普通のプログラミング言語ではそうなんですが、Haskell に関しては、とにかく読んでくことの方が大事な気がします。プログラミング言語はいろいろあります。Java, JavaScript, Ruby, Python, Go, Rust, Scala, Swift, Kotlin など、プログラミング言語の関係みたいなところが、  動画 [圏論とHaskell](https://www.youtube.com/watch?v=I8LbkfSSR58&t=6s) で解説されています。少し内容を言えば、プログラミングで一番抽象度が高いのがHaskellで更に抽象度が高いのが圏論って話になっていて、いろいろ圏論への知見が入ってて面白いです。この人は物理の人みたい。日本語字幕があります。\n",
        "\n",
        "\n",
        "\n"
      ],
      "metadata": {
        "id": "2Pz4DRz12y4_"
      }
    },
    {
      "cell_type": "markdown",
      "source": [
        "## 10.3 オブジェクト指向プログラミングと関数型プログラミング"
      ],
      "metadata": {
        "id": "5SK6c1VN7ZgH"
      }
    },
    {
      "cell_type": "markdown",
      "source": [
        "- 前の動画で、コンポーザビリティという言葉が出てきます。さらに抽象化、詳細を隠すということで、中身を隠して、振舞いだけわかればいいから、Java とかでinterface なるものが出てくる、実装は知らなくてよいそこはカプセル化する、この詳細を隠すのがオブジェクトだった、まさにこれがRubyでありJavaでありC++ないしはSmalltalk とかだった、composability で抽象化したobjectを組み合わせていくことで reusability （再利用可能性）が生まれ、今日のプログラム言語が持つようにライブラリーが大きく普及した。しかし並列や並行コードを書くには、**OOP(Object Oriented Programming)**は問題を起こす、オブジェクトはmutation（変化）を隠す、mutation は内部で状態を変化させる、またオブジェクトはデータを共有する。変化と共有を隠したらデータ競合が起こり、これをオブジェクトは隠ぺい（抽象化）している。ここから関数型プログラミングの発想が出てくる。imutatable な変数って変数でないような(^^:。これは今日のクラウド上で、どこが実行してるかわからない状態で動くことが前提のプログラミングでは絶対に必要になる。また今日のTwitter や Facebook にしろ、いいろんなアプリは、全世界単位でサーバーがある。Webでプログラムはデータは何であれ、ファイルもすべて、ディスクというよりは、データベースアプリケーションに収納される。世界規模のデータをどう同期をとるか？。完全に同期をとってなくても、いろんなことを遅延させて、取り繕いながら動いてるはず。そのコントロールをどうやるか？　このあたりがモナドに関係してくるように思う。"
      ],
      "metadata": {
        "id": "5d1DgLW6FEGi"
      }
    },
    {
      "cell_type": "markdown",
      "source": [
        "- データサイエンスの人たちはOOPもあまり使ってるとは思えない。再利用可能なコードを書いてるわけではないとおもう。Python はピンキリのコードが書ける。Python にしろ JavaScript はいろいろ変化してきた。関数型プログラミングの要素もふんだんに取り入れてきている。特にJavaScript はもともと最初から、Cの皮をかぶったLisp って言われていて、プロトタイプのOOP であって、Lisp的要素はいろいろある、"
      ],
      "metadata": {
        "id": "s-RjEMu9LsxJ"
      }
    },
    {
      "cell_type": "markdown",
      "source": [
        "- 関数型プログラミング以下 FP(Functional Programming) は、高階関数が使える、つまり関数の合成ができる。このことは二つ意味をもたらす。一つは引数は関数も可能ということ、これは関数の合成ができるためには必然だけど、要はデータと関数の区別がないという点。逆を言えば変数も関数ってこと。"
      ],
      "metadata": {
        "id": "gegmLDM8N1yD"
      }
    },
    {
      "cell_type": "markdown",
      "source": [
        "- このあたりで圏論を絡めると、わかりやすい、例えば射を対象とする射圏を考えることで、オブジェクトと射が同じように扱える。この場合の射は射の可換図式、これは$\\bf 2$という圏で二つのオブジェクトからなって、$X,Y$ がオブジェクトで　射が $1_X, 1_Y, ~X\\xrightarrow{f} Y$ で、この$\\bf 2$ から圏 $\\cal C$ へのファンクターがオブジェクトで自然変換が射ということになる。つまり${\\bf Func}({\\bf 2}, \\cal C)$ なる関手圏を考えることと同じ。"
      ],
      "metadata": {
        "id": "jbd27UH_PTvK"
      }
    },
    {
      "cell_type": "markdown",
      "source": [
        "- 米田の補題が　オブジェクトをファンクターと見ることにに関係している。${\\bf Func}({\\cal C}, {\\cal Sets} )$ という $\\cal C$ から $\\cal Sets$ への反変喚関手からなる関手圏において、$\\cal C$ のオブジェクト $X$ と ${\\rm Hom}(\\cdot,X)$ が対応し、 $X\\xrightarrow{f} Y$ も 自然に ${\\rm Hom}(\\cdot,X)$ から ${\\rm Hom}(\\cdot,Y)$ への自然変換に対応して、$\\cal C$ が ${\\bf Func}({\\cal C}, {\\cal Sets} )$ に埋め込まれる。米田の補題は F を ${\\bf Func}({\\cal C}, {\\cal Sets} )$ のオブジェクトとしたとき<br><br>$${\\rm Hom}(X,F) \\cong F(X)$$<br>が成り立つということで、、まあ、オブジェクトと射とファンクターの三位一体論なのかなぁって私なんかは思います。みんな同じで現れ方が異なるだけ。"
      ],
      "metadata": {
        "id": "oUgqho3pUP07"
      }
    },
    {
      "cell_type": "markdown",
      "source": [
        "- 逆にファンクター $F$ が ${\\rm Hom}(\\cdot,X)$ で表されるとき、representable functor (表現可能関手）といって、この $X$ がいろいろ重要な意味を持ちます、モジュライ空間や一般コホモロジーのスペクトラムとか数学では重要です。"
      ],
      "metadata": {
        "id": "R_DplnM0YzsE"
      }
    }
  ]
}