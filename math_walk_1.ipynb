{
  "nbformat": 4,
  "nbformat_minor": 0,
  "metadata": {
    "colab": {
      "provenance": [],
      "include_colab_link": true
    },
    "kernelspec": {
      "name": "python3",
      "display_name": "Python 3"
    },
    "language_info": {
      "name": "python"
    }
  },
  "cells": [
    {
      "cell_type": "markdown",
      "metadata": {
        "id": "view-in-github",
        "colab_type": "text"
      },
      "source": [
        "<a href=\"https://colab.research.google.com/github/eclipse2ant/math_walk/blob/master/math_walk_1.ipynb\" target=\"_parent\"><img src=\"https://colab.research.google.com/assets/colab-badge.svg\" alt=\"Open In Colab\"/></a>"
      ]
    },
    {
      "cell_type": "markdown",
      "source": [],
      "metadata": {
        "id": "5H-v--Ofy31g"
      }
    },
    {
      "cell_type": "code",
      "source": [],
      "metadata": {
        "id": "C5DFgqFEkbkK"
      },
      "execution_count": null,
      "outputs": []
    },
    {
      "cell_type": "markdown",
      "source": [
        "#0. はじめに\n",
        "- 現代はここ十年の間に見まぐるしい変化が起こっているのではないでしょうか。スマートホンの普及に伴いユビキタス社会となり、ビッグデータやクラウド、機械学習とくにディープラーニングといったところで秘術革新がさらにコロナによって、ちょうど中世のヨーロッパがそれまでキリスト教の影響が強かった時代に、ペストが流行し、それまでの既成の価値観や権威が崩れ去り、ルネサンスが始まっていく変化と同様の変化が起こっているのではないでしょうか。その中で、DXやAIまた量子コンピュータといったところが最近のキーワードになってきます。\n",
        "- また機械学習や統計学（ベイスも含めて）、この中には、自然言語処理、機械翻訳、自動運転、などなどこれから世の中を大きく変化させる要素が入ってきています、デジタル・ツインもその一つでしょう。\n",
        "- その中でも機械学習の原理を理解することは、今日的には必須であり、文系の方でも多変数の微積分や線形代数、ないしは、時系列解析や確率微分方程式（例えば、ブラックショールズ方程式）などや量子コンピュータを理解するために量子力学や量子論（場の量子論を含めて、超導電や相転移、自発的対称性の破れ）などの知識を持ってないと、生きていけない時代になってきてます。尚、ヨーロッパの中世について、例えばマイケル・クライントンの「タイムライン」とかウンベルト・エーコの「薔薇の名前」とかの映画や本が面白いです。また放送大学のラジオの興銀でヨーロッパ中世史などが参考になります、\n",
        "- 大学初年級の多変数の微積を数十万かけて、企業から派遣また個人で講師について勉強している文系社会人も少なくありません。（なんと無駄な！！）\n",
        "- ここでは、これらの変化の激しい時代での数学の役割について、一緒に考えていきたいと思います。"
      ],
      "metadata": {
        "id": "-SRf1ccGkCQW"
      }
    },
    {
      "cell_type": "markdown",
      "source": [],
      "metadata": {
        "id": "4xdzMz7Fj-7X"
      }
    },
    {
      "cell_type": "markdown",
      "source": [
        "\n",
        "#1. 数とは\n",
        "- 皆さんは、数とは？って聞かれたら。どう答えるでしょうか。栄養士の知り合いがいますが、数というとカロリーや体重などを表す、大きさでり、また普通のビジネスマンにとっても事務系の方だと大体同じような感覚もしれません。"
      ],
      "metadata": {
        "id": "ZT1m2vlhy8vy"
      }
    }
  ]
}