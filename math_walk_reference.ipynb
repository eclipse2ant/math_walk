{
  "nbformat": 4,
  "nbformat_minor": 0,
  "metadata": {
    "colab": {
      "provenance": [],
      "include_colab_link": true
    },
    "kernelspec": {
      "name": "python3",
      "display_name": "Python 3"
    },
    "language_info": {
      "name": "python"
    }
  },
  "cells": [
    {
      "cell_type": "markdown",
      "metadata": {
        "id": "view-in-github",
        "colab_type": "text"
      },
      "source": [
        "<a href=\"https://colab.research.google.com/github/eclipse2ant/math_walk/blob/master/math_walk_reference.ipynb\" target=\"_parent\"><img src=\"https://colab.research.google.com/assets/colab-badge.svg\" alt=\"Open In Colab\"/></a>"
      ]
    },
    {
      "cell_type": "markdown",
      "source": [
        "#０. はじめに"
      ],
      "metadata": {
        "id": "rfewps-Q9abS"
      }
    },
    {
      "cell_type": "markdown",
      "source": [
        "- ここでは、コンピュータに関して、自分の記録も含めて、やってることを書いていこうと思います。非定期に更新していくので、github ですから、履歴を見るとわかると思います。<br> やりたいことは関数型プログラミングの実際　また同じことですが  **React**  また　スクレイピング。Selenium や　Puppeteer　また自然言語処理 BERT GPT-3 など　　Rus,t Go  ほかにもいいろいろです。データサイエンス関係も扱います。\n"
      ],
      "metadata": {
        "id": "P1KqZkx5zHBf"
      }
    },
    {
      "cell_type": "markdown",
      "source": [
        "#1. オブジェクト指向と関数型プログラミングの関係　および　Kotlin"
      ],
      "metadata": {
        "id": "QDUQsl3x4pyR"
      }
    },
    {
      "cell_type": "markdown",
      "source": [
        "\n",
        "- [From Objects to Functions  \\(Build Your Software Faster and Safer with Functional Programming and Kotlin\\) by Uberto Barbini](https://pragprog.com/titles/uboop/from-objects-to-functions/)\n",
        "\n",
        "アマゾンでペーパー版は買えるようです。(私は電子版をこのサイトから。ベータ版１のころから持ってます）\n",
        "\n",
        "- この本についてやっていこうと思います。とりあえず、Kotlin の環境整備から。これは　 [IntelliJ IDEA ](https://www.jetbrains.com/ja-jp/idea/) でIDEをコミュニティ版（無償）をDLしてインストールしました。使い方の最初は、[Kotlin サーバーサイドプログラミング実践開発 ](https://www.amazon.co.jp/Kotlin-%E3%82%B5%E3%83%BC%E3%83%90%E3%83%BC%E3%82%B5%E3%82%A4%E3%83%89%E3%83%97%E3%83%AD%E3%82%B0%E3%83%A9%E3%83%9F%E3%83%B3%E3%82%B0%E5%AE%9F%E8%B7%B5%E9%96%8B%E7%99%BA-%E7%AB%B9%E7%AB%AF-%E5%B0%9A%E4%BA%BA-ebook/dp/B091PGXHJY/ref=tmm_kin_swatch_0?_encoding=UTF8&qid=1682770111&sr=8-4) を参照しました。"
      ],
      "metadata": {
        "id": "8qdhmYf70s31"
      }
    },
    {
      "cell_type": "markdown",
      "source": [
        "- 現在　やってること　 まず\n",
        "[チュートリアル: Kotlin によるテスト駆動開発](https://pleiades.io/help/idea/tdd-with-kotlin.html) をやります。これは前述の本でテストから入るからです。ケント・ベックのテスト駆動開発とはまず先にテストを書いて、それを達成するコードを書くというやり方です。教育で言う「めあて」を書いてやるやり方ですかね。このメリットは前述の本に書いてあります。ただしここで、本のなかでテストのために　assertionに使ってるのが　STRIKT　というライブラリで[Installation](https://strikt.io/wiki/getting-started/) にあるようなやり方でインストールします。これで実行環境は整いました。"
      ],
      "metadata": {
        "id": "_ioeG4aR3MS6"
      }
    },
    {
      "cell_type": "markdown",
      "source": [
        "- どうしても、本をいろいろ買わないといけないですね。ここでは、関数型のプログラムを書くために前述の本を読もうとしてますが、この本自体はKotlinのことはあまり触れてない。そこで、kotlin の本　ただし　欲を言えば、関数型（以下FPと書きます)のことを書いた本がほしい、ということで、次の3冊を買う羽目に<br>\n",
        "[Kotlin in Action (English Edition) 1st 版, Kindle版](https://www.amazon.co.jp/Kotlin-Action-English-Dmitry-Jemerov-ebook/dp/B09781V4J2/ref=tmm_kin_swatch_0?_encoding=UTF8&qid=1682770492&sr=8-1)\n",
        "これは　すでに2ndがmeap 版 (Manning Early Access Program (MEAP)　いわゆる　β版ですね<br> \n",
        "[Kotlin in Action, Second Edition](https://www.manning.com/books/kotlin-in-action-second-edition) がManningのサイトから買えましてこっちで買うと1stもPDF　kindle　epub形式　全部取れます。これと<br>\n",
        "[Functional Programming in Kotlin (English Edition) Kindle版](https://www.amazon.co.jp/Functional-Programming-Kotlin-English-Vermeulen-ebook/dp/B09DZ5Q233/ref=tmm_kin_swatch_0?_encoding=UTF8&qid=1682770492&sr=8-9) を買いました。これが、FPを目指したものです。もう一冊　買ってますがそれは後でいいます。この本で、著者が　Scalaの　Functinal Scala をお手本にして　それとお同じようなものをKotlinで書こうとした、しかし　Typed　FP　ってあって違いは何かなぁってのと　ScalaとKotlinの関係を調べるためにも　Scalaの本が必要になりました。手なわけで<br>\n",
        "[Scala in Action: Covers Scala 2.10 (English Edition) 1st 版, Kindle版](https://www.amazon.co.jp/s?k=scala+in+action&__mk_ja_JP=%E3%82%AB%E3%82%BF%E3%82%AB%E3%83%8A&crid=30WBVY4WGFVZJ&sprefix=scala+in+action%2Caps%2C184&ref=nb_sb_noss)<br>\n",
        "それとFPのほうの<br>\n",
        "[Functional Programming in Scala (English Edition) 1st 版, Kindle版](https://www.amazon.co.jp/Functional-Programming-Scala-English-Chiusano-ebook/dp/B09781WXH9/ref=tmm_kin_swatch_0?_encoding=UTF8&qid=1682771538&sr=8-5) を買いました。すでに2nd 出るみたいだけど、とりあえず1stが名著のようですね。\n",
        "\n",
        " あと内容見て<br>\n",
        " [Functional Kotlin: Extend your OOP skills and implement Functional techniques in Kotlin and Arrow (English Edition) Kindle版](https://www.amazon.co.jp/Functional-Kotlin-implement-techniques-English-ebook/dp/B078JRKFYF/ref=tmm_kin_swatch_0?_encoding=UTF8&qid=1682771860&sr=8-1)も買っています。<br>\n",
        " まあ、いろいろ買わないとわからねいので仕方ないですね。。。"
      ],
      "metadata": {
        "id": "33CvF1be6_yA"
      }
    },
    {
      "cell_type": "markdown",
      "source": [
        "- さて最後の本はまだわかりませんが、他の本で序文を見る限り、Scalaが先発で、OOPとFPを同時に扱おうとした、新しい言語として2013 あたりに位置づけがあります。後発はKotlinです。したがって少しScalaを先に読んで見る価値はあります。といっても同時進行ですね。"
      ],
      "metadata": {
        "id": "hNHntpHMBqJV"
      }
    },
    {
      "cell_type": "markdown",
      "source": [
        "- 日本語の本で買ってるのは<br>[Kotlin サーバーサイドプログラミング実践開発](https://www.amazon.co.jp/gp/product/B091PGXHJY/ref=ppx_yo_dt_b_search_asin_title?ie=UTF8&psc=1)<br>[速習 Kotlin: Javaより簡単！新Android開発言語を今すぐマスター 速習シリーズ](https://www.amazon.co.jp/gp/product/B07HQMNLCV/ref=ppx_yo_dt_b_search_asin_title?ie=UTF8&psc=1)<br>[基礎＆応用力をしっかり育成！Androidアプリ開発の教科書 第2版 Kotlin対応 なんちゃって開発者にならないための実践ハンズオン](https://www.amazon.co.jp/gp/product/B08WX6RCQ9/ref=ppx_yo_dt_b_search_asin_title?ie=UTF8&psc=1)<br>[みんなのKotlin　現場で役立つ最新ノウハウ！](https://www.amazon.co.jp/gp/product/B0845M72HB/ref=ppx_yo_dt_b_search_asin_title?ie=UTF8&psc=1)<br> なんかいろいろ買ってますが、意外と役に立たないのです。関数型を意識したものは英語のものしかないですね。ほかの部分では役に立つかもしれませんが。Functional Programming in Scala　の　訳本は<br> **<font color=\"red\"> Scala関数型デザイン&プログラミング―Scalazコントリビューターによる関数型徹底ガイド</font>**<br>  ですが　なぜか　今はアマゾンでは扱ってないですね。[目次はここで書かれてます。](https://haskell.hatenablog.com/entry/Functional-Programming-in-Scala)"
      ],
      "metadata": {
        "id": "ba43HbouPS9u"
      }
    },
    {
      "cell_type": "markdown",
      "source": [
        "- **<font color=\"red\">Scala と Kotlin</font>** <br>[こんなに違う！Scala と Kotlin](https://speakerdeck.com/kaelaela/konnaniwei-u-scalatokotlin?slide=35)<br> うーーん、どう違うんだろう、関係は複雑ですね。\n"
      ],
      "metadata": {
        "id": "UGawlAcx2ud3"
      }
    },
    {
      "cell_type": "markdown",
      "source": [
        "- [Kotlin - Ready for Production • Hadi Hariri • GOTO 2016](https://www.youtube.com/watch?v=R0J_Jl7bKY8&t=63s)"
      ],
      "metadata": {
        "id": "FvY8ao5ptF3O"
      }
    },
    {
      "cell_type": "markdown",
      "source": [
        "- まず, 本ですが [.Functional.Programming.in.Scala](https://github.com/fan-zheng/books/blob/master/Manning.Functional.Programming.in.Scala.2014.8.pdf) があります。 [pdf](https://drive.google.com/file/d/1b7vOuqP3YsZMgJZ0k7lTTzVLKfccTaT0/view?usp=share_link)"
      ],
      "metadata": {
        "id": "SzeJortlTuBf"
      }
    },
    {
      "cell_type": "markdown",
      "source": [
        "##1.1. Scala"
      ],
      "metadata": {
        "id": "hq_RejMYRiXZ"
      }
    },
    {
      "cell_type": "markdown",
      "source": [
        "- まず, 本ですが [Scalar in Action](https://github.com/fan-zheng/books/blob/master/Scala%20in%20Action.pdf) があります。 [pdf](https://drive.google.com/file/d/1b7vOuqP3YsZMgJZ0k7lTTzVLKfccTaT0/view?usp=share_link)"
      ],
      "metadata": {
        "id": "5o3PYTkkRqZH"
      }
    },
    {
      "cell_type": "markdown",
      "source": [
        "- Scala のインストールは まずScalaのサイト [The Scala Programming Language](https://www.scala-lang.org/) から GET STARTED にいって、コマンド・ラインで使うものを　インストール　続いて　Using IntelliJ のところへ行って、IntelliJ で Scala を使うインストールをします。\n"
      ],
      "metadata": {
        "id": "tBwd5DgxU9qA"
      }
    },
    {
      "cell_type": "markdown",
      "source": [
        "#2. BERT, GPT-3, 自然言語処理, ChatGPT"
      ],
      "metadata": {
        "id": "mmglACE85SO2"
      }
    },
    {
      "cell_type": "markdown",
      "source": [
        "##2.1. ChatGPT"
      ],
      "metadata": {
        "id": "GYGm3gQt5awr"
      }
    },
    {
      "cell_type": "markdown",
      "source": [
        "- 対話型AI　ChatGPT に関して　[先読み!IT×ビジネス講座 ChatGPT 対話型AIが生み出す未来](https://www.amazon.co.jp/%E5%85%88%E8%AA%AD%E3%81%BF-%C3%97%E3%83%93%E3%82%B8%E3%83%8D%E3%82%B9%E8%AC%9B%E5%BA%A7-ChatGPT-%E5%AF%BE%E8%A9%B1%E5%9E%8BAI%E3%81%8C%E7%94%9F%E3%81%BF%E5%87%BA%E3%81%99%E6%9C%AA%E6%9D%A5-%E5%8F%A4%E5%B7%9D%E6%B8%89%E2%BC%80-ebook/dp/B0BZY841LS/ref=sr_1_2_sspa?__mk_ja_JP=%E3%82%AB%E3%82%BF%E3%82%AB%E3%83%8A&crid=132K6QN26R3RM&keywords=ChatGPT&qid=1682216198&sprefix=chatgpt%2Caps%2C180&sr=8-2-spons&psc=1&spLa=ZW5jcnlwdGVkUXVhbGlmaWVyPUFFUDI4UzNBUUFEUk0mZW5jcnlwdGVkSWQ9QTA3Mjc3MDg4TkdITEVJNTVQWFQmZW5jcnlwdGVkQWRJZD1BMUQ1OEYyUk5VRVhITSZ3aWRnZXROYW1lPXNwX2F0ZiZhY3Rpb249Y2xpY2tSZWRpcmVjdCZkb05vdExvZ0NsaWNrPXRydWU=) って本を買いました、それと　[日経サイエンス2023年5月号](https://www.amazon.co.jp/%E6%97%A5%E7%B5%8C%E3%82%B5%E3%82%A4%E3%82%A8%E3%83%B3%E3%82%B92023%E5%B9%B45%E6%9C%88%E5%8F%B7-%E9%9B%91%E8%AA%8C-%E6%97%A5%E7%B5%8C%E3%82%B5%E3%82%A4%E3%82%A8%E3%83%B3%E3%82%B9-ebook/dp/B0BZCSD6TY/ref=sr_1_1?__mk_ja_JP=%E3%82%AB%E3%82%BF%E3%82%AB%E3%83%8A&crid=3D7TEDBS4JWK1&keywords=%E6%97%A5%E7%B5%8C%E3%82%B5%E3%82%A4%E3%82%A8%E3%83%B3%E3%82%B9&qid=1682216581&sprefix=%E6%97%A5%E7%B5%8C%E3%82%B5%E3%82%A4%E3%82%A8%E3%83%B3%E3%82%B9%2Caps%2C173&sr=8-1) にも特集で出ています。こちらにはこの授業で扱う圏論の特集と量子コンピュータで、情報喪失行わないとエントロピーが増大しないとは熱が起こらないシステムの話も出ています。あと光合成のメカニズム解明でいままでわかっていなかったところの話が特集にあります。"
      ],
      "metadata": {
        "id": "V3QFuXh36MMd"
      }
    },
    {
      "cell_type": "markdown",
      "source": [
        "##2.2. 放送大学の自然言語処理(2023)　　と　BERT\n"
      ],
      "metadata": {
        "id": "EcGKS1V88MXj"
      }
    },
    {
      "cell_type": "markdown",
      "source": [
        "- 今年度内容が新しくなって、Tranformer や最新の進展が聞けます。Transformer　を理解するのに　いくつか本も買ってます。\n",
        "\n",
        "- [Getting Started with Google BERT: Build and train state-of-the-art natural language processing models using BERT](https://www.amazon.com/gp/product/B08LLDF377/ref=ppx_yo_dt_b_d_asin_title_o00?ie=UTF8&psc=1) とに日本語での解説本をやっていこうと思ってます。"
      ],
      "metadata": {
        "id": "6D8mJVmT8Vgz"
      }
    },
    {
      "cell_type": "markdown",
      "source": [
        "- [60分でできるBERT(英語テキストの感情分析)](https://qiita.com/makaishi2/items/cb97f6a70a12db55443b?fbclid=IwAR1psg1FXzYr9KRT4IxGAALKCoxAScQgPecIDivAwObDb-BFrZwijfDjUSc)"
      ],
      "metadata": {
        "id": "88sLpggiN5yC"
      }
    },
    {
      "cell_type": "markdown",
      "source": [
        "-  [Transformers](https://huggingface.co/docs/transformers/index) <br>\n",
        "[Transformers (github)](https://github.com/huggingface/transformers/tree/main/src/transformers)\n"
      ],
      "metadata": {
        "id": "XteZ9qCrOxG6"
      }
    },
    {
      "cell_type": "markdown",
      "source": [
        "- Transformer　を最初に述べた論文が<br><br>\n",
        "https://arxiv.org/abs/1706.03762<br><br>\n",
        "https://proceedings.neurips.cc/paper_files/paper/2017/file/3f5ee243547dee91fbd053c1c4a845aa-Paper.pdf<br><br>\n",
        " Attention Is All You Need<br><br>\n",
        "って論文です。 <p> \n",
        "　このタイトルきいてピーンときませんか？　all you need is kill    もともと　日本の漫画らしいですが、映画になりましたね<br>　トム・クルーズ主演で、エイリアンの侵略でエイリアンの血を浴びて死んだおかげで死ぬとある時間の地点まで戻ってまたやり直せる、しかも、前の記憶は残ってるという。で、戦うためには、負傷したら、迷わず死ぬことって設定で、輸血などするとその能力は失われる。たぶん、論文のタイトルはこの話を知ってるんでしょうね、<p>\n",
        "　クロネコの最近のLineの不在や届日の設定変更のチャットのサービスなんかつかってないのかなぁ？あれよくできてるから。その際のかなめが　Transformerです。<br>　self atention とか用語が出てきます。この原理では行列を使ってますから、文系の方も、嫌がらずに、放送大学やいろんな授業で線形代数を学ぶようにしましょう。"
      ],
      "metadata": {
        "id": "axNS2etC5wW6"
      }
    },
    {
      "cell_type": "markdown",
      "source": [
        "#３. React"
      ],
      "metadata": {
        "id": "qUVHrlNmLlW7"
      }
    },
    {
      "cell_type": "markdown",
      "source": [
        "##3.1. とりあえず"
      ],
      "metadata": {
        "id": "EyL4dvGXLrRb"
      }
    },
    {
      "cell_type": "markdown",
      "source": [
        "- [React 総復習！ Reactの大事な部分を紹介します！！ (youtube 動画](https://www.youtube.com/watch?v=VRbEqvneqL4)\n"
      ],
      "metadata": {
        "id": "OiFC6bdYLyCa"
      }
    },
    {
      "cell_type": "markdown",
      "source": [
        "- [入門編】Reduxによる状態管理の仕組みを理解する](https://zenn.dev/jojo/articles/25c10b27783093?fbclid=IwAR015BfpOq9jb1ZBXWLxU-FGklxSg2J3pyTeBforHeHBJNGX0KuVyHGyqYA)"
      ],
      "metadata": {
        "id": "yrwlRWFhM6d7"
      }
    },
    {
      "cell_type": "markdown",
      "source": [
        "- [Reduxの仕組みを理解する](https://zenn.dev/ryotarohada/articles/9a677d6f7fdc8e?fbclid=IwAR3b2t5YfCZHWllzcZrugUmwx0og2fSxXZsk2ifd6MRh1MlAe8vvCC6ErwY)"
      ],
      "metadata": {
        "id": "iy_uDv-oNlLb"
      }
    },
    {
      "cell_type": "markdown",
      "source": [
        "- ちょっと別枠ですが  　[Rustでの 抽象化 3パターンについて](https://zenn.dev/j5ik2o/articles/045737392958a3?fbclid=IwAR0En9UXK8YheWZu_2NIpReN50h0tAXELGUX7SalRuRHQFD8JyinEmWnieM)"
      ],
      "metadata": {
        "id": "rFOBJBKyM70z"
      }
    },
    {
      "cell_type": "markdown",
      "source": [
        "##3.2. 今年のお正月に書いた内容です"
      ],
      "metadata": {
        "id": "s_vXLjb0x7Tb"
      }
    },
    {
      "cell_type": "markdown",
      "source": [
        "あけまして、おめでとうございます。　大晦日あたりからこの本を読んでいます。なかなかお勧めの本です。\n",
        "\n",
        "https://booth.pm/ja/items/2368045<br>\n",
        "\n",
        "\n",
        "偏見と怒られそうですが、この著者、女性で、これだけプログラム言語に詳しいってびっくりしました。とはいっても、私はずっとコンピュータのゼミをやっていますが、そこで育った卒業生で優秀なのは女性です。また映画「ドリーム」　NASAで最初にIBMのFortlanで軌道計算を行ったのは黒人女性。\n",
        "https://eiga.com/movie/86262/\n",
        "\n",
        "　という風にすぐ女性でプログラミングを苦手がる人は多いのですが、実際は、男性より細かい作業が女性のほうが本来プログラミングって向いてるようにも思います。この著者もすごい知識です。一応新人さんとはいっても、社会人2年目でRuby On Railsでの開発には携わっていた女子社員と有能な女性プログラマーとの対話形式で　Reactをつかって　Web開発していく話になっています。一冊 １２００円程度で三部作で、電子版でスマホでも読めます。\n",
        "もともと　「ReactとPythonでAPI販売サービスを作ろう」　って本をアマゾンでかってそこから知りました。\n",
        "\n",
        "https://www.amazon.co.jp/gp/product/B0BMPZW444/ref=ppx_yo_dt_b_d_asin_title_o07?ie=UTF8&psc=1<br>\n",
        "\n",
        "React は　Next.js　とかでも出てきます。　関数型プログラミング　と　Reactive　な　フロントエンド　そして　TypeScript  といった　今の技術です。読んでみることをお勧めします。　実際動かせます。この本はＭａｃの環境でasdf という管理ツールから行っています。　Windows では　この本は別のやり方行ってますが、とりあえずWSL2  をいえれて、Windows版Ubuntu で　asdf を使う方法でやりました（本はanydev）\n",
        "\n",
        "\n",
        "https://qiita.com/kikuchi_kentaro/items/d951fa7ca7c9c29a77dc\n",
        "\n",
        "\n",
        "であとは　Shell はBashを使ってるので　.bashrc 　に\n",
        ". $HOME/.asdf/asdf.sh\n",
        "\n",
        ". $HOME/.asdf/completions/asdf.bash\n",
        "\n",
        "\n",
        "で　インストールできます。あとは本と同じ、普通にUbuntuでも同じやり方です。\n",
        "\n",
        "WSL2はWindowsではデフォルトでは、インストールされてないので、\n",
        "https://learn.microsoft.com/ja-jp/windows/wsl/install\n",
        "\n",
        "https://chigusa-web.com/blog/wsl2-win11/\n",
        "\n",
        "\n",
        "この二つを参考にしました。もちろん簡単な　Linuxの知識は必要です。\n",
        "\n",
        "いまはオブジェクト指向は当たり前、関数型プログラミングの時代、reactive 思考はまた別のパラダイムでしょうけど、この二つが入ったものがReact 　そしてTypeScript は欠かせません。当然　VS Code　がエディターにこのエディターもTypeScriptをとかって　Electron をつかって　Erich Gamma　が精力的に作ったものなので多くのプログラム言語の本で使うことを勧められています。なんせGoFのひとり　Eclipseの作者でもありますからね。\n",
        "\n",
        "ということで　読んでいじってみてください。　著者は女性ですから　女性陣頑張って！！"
      ],
      "metadata": {
        "id": "t1OD1LvyyJrp"
      }
    },
    {
      "cell_type": "markdown",
      "source": [
        "#4. 圏論 (Category Theory)"
      ],
      "metadata": {
        "id": "Gd7yRYrmXPHx"
      }
    },
    {
      "cell_type": "markdown",
      "source": [
        "##4.1. 圏論の本"
      ],
      "metadata": {
        "id": "0VD-CXlsXWhA"
      }
    },
    {
      "cell_type": "markdown",
      "source": [
        "- 2.1 でふれた [日経サイエンス2023年5月号](https://www.amazon.co.jp/%E6%97%A5%E7%B5%8C%E3%82%B5%E3%82%A4%E3%82%A8%E3%83%B3%E3%82%B92023%E5%B9%B45%E6%9C%88%E5%8F%B7-%E9%9B%91%E8%AA%8C-%E6%97%A5%E7%B5%8C%E3%82%B5%E3%82%A4%E3%82%A8%E3%83%B3%E3%82%B9-ebook/dp/B0BZCSD6TY/ref=sr_1_1?__mk_ja_JP=%E3%82%AB%E3%82%BF%E3%82%AB%E3%83%8A&crid=3D7TEDBS4JWK1&keywords=%E6%97%A5%E7%B5%8C%E3%82%B5%E3%82%A4%E3%82%A8%E3%83%B3%E3%82%B9&qid=1682216581&sprefix=%E6%97%A5%E7%B5%8C%E3%82%B5%E3%82%A4%E3%82%A8%E3%83%B3%E3%82%B9%2Caps%2C173&sr=8-1)での圏論の特集で、圏論の本の紹介の部分の [ページ](https://drive.google.com/file/d/1lMdTo1nOb3lgcBoWQ-Jhr6uE9-95xs2Z/view?usp=share_link) をアップしておきます。書かれてる本のPDF は　すべてネットでとれちゃうので探してみてください。あと<br>[Category Theory in Context　　 Emily Riehl (著) ](https://www.amazon.co.jp/gp/product/B06XHZ82GF/ref=ppx_yo_dt_b_d_asin_title_o00?ie=UTF8&psc=1)  　は、特集記事の著者自身の本なのですがこれは　Kindle版は　2300円　なので、買ってもいいかもしれません。ついでに　Elements of ∞-Category Theory　も同じ著者です。こっちは圏論の一般化　∞-圏論ですが、一般的なものの方がみやすくなってるのかも。"
      ],
      "metadata": {
        "id": "3tV6nIynXbnh"
      }
    },
    {
      "cell_type": "markdown",
      "source": [
        "#4.2 圏論とHaskell"
      ],
      "metadata": {
        "id": "fJDlGxSXuy1w"
      }
    },
    {
      "cell_type": "markdown",
      "source": [
        "- このまとめはすごいです！！<br>[「圏論とプログラミング」発表スライドメモ](https://qiita.com/inamiy/items/9af1da1faec22cd968f0)<br>[「圏論とプログラミング」スライド](https://speakerdeck.com/inamiy/category-theory-and-programming)"
      ],
      "metadata": {
        "id": "SLwO_7-Cu6Nn"
      }
    },
    {
      "cell_type": "markdown",
      "source": [
        "- **<font color=\"red\">Haskell を　勉強しよう と　∞-圏論で圏論より、さらに綺麗に見よう！！</font><br>**\n",
        "プログラミング勉強するならHaskell ですね。<br>確かに、Pythonは必要なんですが、それはいろんな作業の自動化に使えるから、またデータサイエンスやるにしてもPython必要です。ただこれくらいだったら、それほどコーディングこらないし、Excelの自動化だったら、キノコードのサンプルとってきて、少し変えればよいと思います。<br>\n",
        "でもプログラミングは必要ですがオブジェクト指向から入るのは、もうよくない！！　やっぱり関数型プログラミングだ！！　って感じ。<br>\n",
        "ひとつはここから入ったほうが結局はオブジェクト指向の言語もマスターできると思います。実際Rubyのメタプログラミングやブロックの使い方（これはファースト関数ですね）やPerlなどのクロージャーやPythonの内包表記もすべて関数型プログラミングから借りてきてる。だからこっちを理解すれば、それでよい。それと関数型プログラミングは変数はimmutatable つまり　一度変数は値を代入したら変更できません。<br>だからほかの言語でいやーーーな、とてもいやーーーーな、変数のスコープつまりいつ束縛されてるかを考えなくてすみます。その代わり関数が合成できる。<br>また関数が値として関数を返すことができる、つまり関数と値とは同じ扱い、平等なんです。<br>これは圏論でいうところの米田の補題　つまり　カテゴリーC　から　集合圏　への　反変関手F　を　考えたとき　CのオブジェクトXに対して　Hom（・、X）として　Xを反変関手として見てあげると　\n",
        "Hom（X,F）= F(X) 　　ただしここでの射は　関手の自然変換　（＝は　本当は同型の意味）<br>これで　オブジェクトと関手って同じもの思えちゃうわけで、関手が　Hom関手で表されるとき　表現可能っていうのですが、まあ、おおざっぱに言って、オブジェクトと射と関手って見え方が違ってるだけ同じものって極論してしまって三位一体論にしておけば、わかりやすいでしょう。<br>\n",
        "さて　モナドです。　<br>\n",
        "ma-->(a--> mb)  --> mb  <br>\n",
        "ですね。<br>\n",
        "モナドに馴染んできて、どうやって並列性や遅延評価と向き合うかって考えていて、それと同時に関数型プログラミングとは別のパラダイムに思えるリアクティブを使ってる、Reactをどう扱ったらって思いながら、<br>\n",
        "[Category Theory 1.1 Motivation and Philosophy 　(日本語字幕があります)](https://youtu.be/I8LbkfSSR58)<br>\n",
        "を見てて、圏論がプログラム言語として一番Universal　で、　それに一番近く、Universalってのは抽象度が一番高いって意味と思うと、すこし抽象度を下げたのが、Haskellという位置づけで述べられている。OOPの言語でC++のテンプレート・メタプログラミングはめっちゃ難しいけど、それは、Haskellでは簡単に実現できて、それをより抽象度の低いC++に持ち込ん出るから複雑という図式で描いてます。圏論がUniversalだとすると、Reactive を表現できるはずだと思い、ググってたら 先に述べた<br>\n",
        "[「圏論とプログラミング」発表スライドメモ](https://qiita.com/inamiy/items/9af1da1faec22cd968f0)<br>\n",
        "に出くあしました。ここではArrowやコモナドで実現できるそうです。これはもうHaskellになってますね。<br>\n",
        "圏論での随伴や極限、さらにはカン拡張まで出てきて驚きです。これらがプログラミングに使えるなんてちょっと想像つかない。でもだからこそ、最近やたら圏論の本が増えたのかなぁって思います。巷は圏論ブームのような。。。<br>\n",
        "実際、圏論 原著第2版　は訳本ですが、数学を専門にしてない人向けに書かれてます。情報科学や論理学、心理学のひと、<br>\n",
        "Haskell 勉強するなら、「すごいHaskellたのしく学ぼう」　って本がおすすめですが、この本、別にパソコンがなくても読めます。読んで理解できて、しかも楽しい。しかも、全く圏論の話は出てきません。<br>\n",
        "今後は、[カン拡張パッケージ](https://hackage.haskell.org/package/kan-extensions)\n",
        "<br>kan-extensions: Kan extensions, Kan lifts, the Yoneda lemma, and (co)density (co)monads<br>\n",
        "とかで、いろいろ勉強したいですね。<br>\n",
        "実は、恥ずかしながら、数学的にも　カン拡張は、理解していません。<br>なんかホモトピー論のコファイバーかファイバーの図式で斜めの線がそうらしいですが、そうなるとモデル圏の定義あたりに出てきて、最近やっとマクレーンの本に慣れて来たかなぁって感じで今まであのバイブル本はスルーしてきました。<br>30年位あの本が出てきから立って今は2冊ぐらい、圏論の本が出てきて、この前買いましたが、やたら例が多くて読めないのが1冊。もう1冊も手つかずです。さらに一般向けの原書もありますが。。。<br>\n",
        "それと　[日経サイエンス2023年5月号](https://www.amazon.co.jp/%E6%97%A5%E7%B5%8C%E3%82%B5%E3%82%A4%E3%82%A8%E3%83%B3%E3%82%B92023%E5%B9%B45%E6%9C%88%E5%8F%B7-%E9%9B%91%E8%AA%8C-%E6%97%A5%E7%B5%8C%E3%82%B5%E3%82%A4%E3%82%A8%E3%83%B3%E3%82%B9-ebook/dp/B0BZCSD6TY/ref=sr_1_1?__mk_ja_JP=%E3%82%AB%E3%82%BF%E3%82%AB%E3%83%8A&crid=3D7TEDBS4JWK1&keywords=%E6%97%A5%E7%B5%8C%E3%82%B5%E3%82%A4%E3%82%A8%E3%83%B3%E3%82%B9&qid=1682216581&sprefix=%E6%97%A5%E7%B5%8C%E3%82%B5%E3%82%A4%E3%82%A8%E3%83%B3%E3%82%B9%2Caps%2C173&sr=8-1) の圏論の特集記事、圏論を∞-圏論でさらに拡張して、さらにいろんなものを同じに見ようとする試み、圏論にホモトピーを持ち込んでるようなたぶん、単体的複体のn 次元の面を射の拡張としてとらえてるような感じなんだろうか？？<br>\n",
        "∞-圏論って頭が痛いですが、でもこの記事に従い抽象化がたかいほど、綺麗になって、単純化されて、より分かりやすいのかもしれませんが。<br>\n",
        "そんな圏論がプログラム言語としての意味を持つというのは、なんか変な気分。でも　やたらそれで本が出てるのもうなずけますね。<br>\n",
        "プログラミング教育における、プログラミング的思考と圏論とはどう関係するんだろう。ただ圏論が言語としての役割をもってる気もするけど。\n"
      ],
      "metadata": {
        "id": "t4IGZOdsklu3"
      }
    },
    {
      "cell_type": "markdown",
      "source": [
        "- [いろいろ本が紹介されてるサイト](https://ywatanabevltmathscilogic.hatenablog.com/entry/2017/09/02/154648)<br> [このサイトは？](https://bitterharvest.hatenablog.com/archive/category/%E3%83%97%E3%83%AD%E3%82%B0%E3%83%A9%E3%83%9E%E3%83%BC%E3%81%AE%E3%81%9F%E3%82%81%E3%81%AE%E5%9C%8F%E8%AB%96%20%28%E5%88%9D%E7%B4%9A%E7%B7%A8%EF%BC%9A%E5%9C%8F%E8%AB%96%E3%81%A8Haskell%29 )<br> [Bartosz Milewski's Lectute 　 (Youtube)](https://www.youtube.com/@DrBartosz/videos) ----The full course on category theory for programmers by Bartosz Milewski. <br> [Videos on various topics in category theory](https://www.youtube.com/@TheCatsters/videos)-----Video lessons on various category theory topics; not particularly aimed to programmers. <br>[Category Theoryfor Computing Science.pdf](https://www.math.mcgill.ca/triples/Barr-Wells-ctcs.pdf)<br>[圏論を勉強しよう](https://www.cs-study.com/koga/category/index.html?fbclid=IwAR3X8wplKPlrn9QrxEy2BZLtEPIH_5iqUvMfRPXZZs3swp-neGkwopW-8ko) 情報科学のひとのサイトなので、数学の感覚と少し違いますが、いろんな情報が満載です、自身のYoutubeでの解説や他の特に外人さんのサイトの紹介がすごいです。<br>[CategoryTheory for Computing Science 　　Michael BarrDepartment of Mathematics and Statistics 　McGill University](https://www.math.mcgill.ca/triples/Barr-Wells-ctcs.pdf)\n"
      ],
      "metadata": {
        "id": "q024TXrc7bCH"
      }
    }
  ]
}