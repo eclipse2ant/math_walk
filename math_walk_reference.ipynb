{
  "nbformat": 4,
  "nbformat_minor": 0,
  "metadata": {
    "colab": {
      "provenance": [],
      "include_colab_link": true
    },
    "kernelspec": {
      "name": "python3",
      "display_name": "Python 3"
    },
    "language_info": {
      "name": "python"
    }
  },
  "cells": [
    {
      "cell_type": "markdown",
      "metadata": {
        "id": "view-in-github",
        "colab_type": "text"
      },
      "source": [
        "<a href=\"https://colab.research.google.com/github/eclipse2ant/math_walk/blob/master/math_walk_reference.ipynb\" target=\"_parent\"><img src=\"https://colab.research.google.com/assets/colab-badge.svg\" alt=\"Open In Colab\"/></a>"
      ]
    },
    {
      "cell_type": "markdown",
      "source": [
        "ここでは、コンピュータに関して、自分の記録も含めて、やってることを書いていこうと思います。非定期に更新していくので、github ですから、履歴を見るとわかると思います。<br> やりたいことは関数型プログラミングの実際　また同じことですが  **React**  また　スクレイピング。Selenium や　Puppeteer　また自然言語処理 BERT GPT-3 など　　Rus,t Go  ほかにもいいろいろです。データサイエンス関係も扱います。\n"
      ],
      "metadata": {
        "id": "P1KqZkx5zHBf"
      }
    },
    {
      "cell_type": "markdown",
      "source": [
        "- [From Objects to Functions\n",
        "Build Your Software Faster and Safer with Functional Programming and Kotlin   by Uberto Barbini](https://pragprog.com/titles/uboop/from-objects-to-functions/)\n",
        "\n",
        "アマゾンでペーパー版は変えるようです。\n",
        "\n",
        "- この本についてやっていこうと思います。"
      ],
      "metadata": {
        "id": "8qdhmYf70s31"
      }
    }
  ]
}