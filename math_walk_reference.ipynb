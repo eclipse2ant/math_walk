{
  "nbformat": 4,
  "nbformat_minor": 0,
  "metadata": {
    "colab": {
      "provenance": [],
      "include_colab_link": true
    },
    "kernelspec": {
      "name": "python3",
      "display_name": "Python 3"
    },
    "language_info": {
      "name": "python"
    }
  },
  "cells": [
    {
      "cell_type": "markdown",
      "metadata": {
        "id": "view-in-github",
        "colab_type": "text"
      },
      "source": [
        "<a href=\"https://colab.research.google.com/github/eclipse2ant/math_walk/blob/master/math_walk_reference.ipynb\" target=\"_parent\"><img src=\"https://colab.research.google.com/assets/colab-badge.svg\" alt=\"Open In Colab\"/></a>"
      ]
    },
    {
      "cell_type": "markdown",
      "source": [
        "#０. はじめに"
      ],
      "metadata": {
        "id": "rfewps-Q9abS"
      }
    },
    {
      "cell_type": "markdown",
      "source": [
        "- ここでは、コンピュータに関して、自分の記録も含めて、やってることを書いていこうと思います。非定期に更新していくので、github ですから、履歴を見るとわかると思います。<br> やりたいことは関数型プログラミングの実際　また同じことですが  **React**  また　スクレイピング。Selenium や　Puppeteer　また自然言語処理 BERT GPT-3 など　　Rus,t Go  ほかにもいいろいろです。データサイエンス関係も扱います。\n"
      ],
      "metadata": {
        "id": "P1KqZkx5zHBf"
      }
    },
    {
      "cell_type": "markdown",
      "source": [
        "#1. オブジェクト指向と関数型プログラミングの関係　および　Kotlin"
      ],
      "metadata": {
        "id": "QDUQsl3x4pyR"
      }
    },
    {
      "cell_type": "markdown",
      "source": [
        "\n",
        "- [From Objects to Functions  \\(Build Your Software Faster and Safer with Functional Programming and Kotlin\\) by Uberto Barbini](https://pragprog.com/titles/uboop/from-objects-to-functions/)\n",
        "\n",
        "アマゾンでペーパー版は替えるようです。(私は電子版をこのサイトから。ベータ版１のころから持ってます）\n",
        "\n",
        "- この本についてやっていこうと思います。とりあえず、Kotlin の環境整備から。これは　 [IntelliJ IDEA ](https://www.jetbrains.com/ja-jp/idea/) でIDEをコミュニティ版（無償）をDLしてインストールしました。"
      ],
      "metadata": {
        "id": "8qdhmYf70s31"
      }
    },
    {
      "cell_type": "markdown",
      "source": [
        "#2. BERT, GPT-3, 自然言語処理, ChatGPT"
      ],
      "metadata": {
        "id": "mmglACE85SO2"
      }
    },
    {
      "cell_type": "markdown",
      "source": [
        "##2.1. ChatGPT"
      ],
      "metadata": {
        "id": "GYGm3gQt5awr"
      }
    },
    {
      "cell_type": "markdown",
      "source": [
        "- 対話型AI　ChatGPT に関して　[先読み!IT×ビジネス講座 ChatGPT 対話型AIが生み出す未来](https://www.amazon.co.jp/%E5%85%88%E8%AA%AD%E3%81%BF-%C3%97%E3%83%93%E3%82%B8%E3%83%8D%E3%82%B9%E8%AC%9B%E5%BA%A7-ChatGPT-%E5%AF%BE%E8%A9%B1%E5%9E%8BAI%E3%81%8C%E7%94%9F%E3%81%BF%E5%87%BA%E3%81%99%E6%9C%AA%E6%9D%A5-%E5%8F%A4%E5%B7%9D%E6%B8%89%E2%BC%80-ebook/dp/B0BZY841LS/ref=sr_1_2_sspa?__mk_ja_JP=%E3%82%AB%E3%82%BF%E3%82%AB%E3%83%8A&crid=132K6QN26R3RM&keywords=ChatGPT&qid=1682216198&sprefix=chatgpt%2Caps%2C180&sr=8-2-spons&psc=1&spLa=ZW5jcnlwdGVkUXVhbGlmaWVyPUFFUDI4UzNBUUFEUk0mZW5jcnlwdGVkSWQ9QTA3Mjc3MDg4TkdITEVJNTVQWFQmZW5jcnlwdGVkQWRJZD1BMUQ1OEYyUk5VRVhITSZ3aWRnZXROYW1lPXNwX2F0ZiZhY3Rpb249Y2xpY2tSZWRpcmVjdCZkb05vdExvZ0NsaWNrPXRydWU=) って本を買いました、それと　[日経サイエンス2023年5月号](https://www.amazon.co.jp/%E6%97%A5%E7%B5%8C%E3%82%B5%E3%82%A4%E3%82%A8%E3%83%B3%E3%82%B92023%E5%B9%B45%E6%9C%88%E5%8F%B7-%E9%9B%91%E8%AA%8C-%E6%97%A5%E7%B5%8C%E3%82%B5%E3%82%A4%E3%82%A8%E3%83%B3%E3%82%B9-ebook/dp/B0BZCSD6TY/ref=sr_1_1?__mk_ja_JP=%E3%82%AB%E3%82%BF%E3%82%AB%E3%83%8A&crid=3D7TEDBS4JWK1&keywords=%E6%97%A5%E7%B5%8C%E3%82%B5%E3%82%A4%E3%82%A8%E3%83%B3%E3%82%B9&qid=1682216581&sprefix=%E6%97%A5%E7%B5%8C%E3%82%B5%E3%82%A4%E3%82%A8%E3%83%B3%E3%82%B9%2Caps%2C173&sr=8-1) にも特集で出ています。こちらにはこの授業で扱う圏論の特集と量子コンピュータで、情報喪失行わないとエントロピーが増大しないとは熱が起こらないシステムの話も出ています。あと光合成のメカニズム解明でいままでわかっていなかったところの話が特集にあります。"
      ],
      "metadata": {
        "id": "V3QFuXh36MMd"
      }
    },
    {
      "cell_type": "markdown",
      "source": [
        "##2.2. 放送大学の自然言語処理(2023)　　と　BERT\n"
      ],
      "metadata": {
        "id": "EcGKS1V88MXj"
      }
    },
    {
      "cell_type": "markdown",
      "source": [
        "- 今年度内容が新しくなって、Tranformer や最新の進展が聞けます。Transformer　を理解するのに　いくつか本も買ってます。\n",
        "\n",
        "- [Getting Started with Google BERT: Build and train state-of-the-art natural language processing models using BERT](https://www.amazon.com/gp/product/B08LLDF377/ref=ppx_yo_dt_b_d_asin_title_o00?ie=UTF8&psc=1) とに日本語での解説本をやっていこうと思ってます。"
      ],
      "metadata": {
        "id": "6D8mJVmT8Vgz"
      }
    },
    {
      "cell_type": "markdown",
      "source": [
        "- [60分でできるBERT(英語テキストの感情分析)](https://qiita.com/makaishi2/items/cb97f6a70a12db55443b?fbclid=IwAR1psg1FXzYr9KRT4IxGAALKCoxAScQgPecIDivAwObDb-BFrZwijfDjUSc)"
      ],
      "metadata": {
        "id": "88sLpggiN5yC"
      }
    },
    {
      "cell_type": "markdown",
      "source": [
        "-  [Transformers](https://huggingface.co/docs/transformers/index) <br>\n",
        "[Transformers (github)](https://github.com/huggingface/transformers/tree/main/src/transformers)\n"
      ],
      "metadata": {
        "id": "XteZ9qCrOxG6"
      }
    },
    {
      "cell_type": "markdown",
      "source": [
        "#３. React"
      ],
      "metadata": {
        "id": "qUVHrlNmLlW7"
      }
    },
    {
      "cell_type": "markdown",
      "source": [
        "##3.1. とりあえず"
      ],
      "metadata": {
        "id": "EyL4dvGXLrRb"
      }
    },
    {
      "cell_type": "markdown",
      "source": [
        "- [React 総復習！ Reactの大事な部分を紹介します！！ (youtube 動画](https://www.youtube.com/watch?v=VRbEqvneqL4)\n"
      ],
      "metadata": {
        "id": "OiFC6bdYLyCa"
      }
    },
    {
      "cell_type": "markdown",
      "source": [
        "- [入門編】Reduxによる状態管理の仕組みを理解する](https://zenn.dev/jojo/articles/25c10b27783093?fbclid=IwAR015BfpOq9jb1ZBXWLxU-FGklxSg2J3pyTeBforHeHBJNGX0KuVyHGyqYA)"
      ],
      "metadata": {
        "id": "yrwlRWFhM6d7"
      }
    },
    {
      "cell_type": "markdown",
      "source": [
        "- [Reduxの仕組みを理解する](https://zenn.dev/ryotarohada/articles/9a677d6f7fdc8e?fbclid=IwAR3b2t5YfCZHWllzcZrugUmwx0og2fSxXZsk2ifd6MRh1MlAe8vvCC6ErwY)"
      ],
      "metadata": {
        "id": "iy_uDv-oNlLb"
      }
    },
    {
      "cell_type": "markdown",
      "source": [
        "- ちょっと別枠ですが  　[Rustでの 抽象化 3パターンについて](https://zenn.dev/j5ik2o/articles/045737392958a3?fbclid=IwAR0En9UXK8YheWZu_2NIpReN50h0tAXELGUX7SalRuRHQFD8JyinEmWnieM)"
      ],
      "metadata": {
        "id": "rFOBJBKyM70z"
      }
    }
  ]
}