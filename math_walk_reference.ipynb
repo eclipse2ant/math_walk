{
  "nbformat": 4,
  "nbformat_minor": 0,
  "metadata": {
    "colab": {
      "provenance": [],
      "include_colab_link": true
    },
    "kernelspec": {
      "name": "python3",
      "display_name": "Python 3"
    },
    "language_info": {
      "name": "python"
    }
  },
  "cells": [
    {
      "cell_type": "markdown",
      "metadata": {
        "id": "view-in-github",
        "colab_type": "text"
      },
      "source": [
        "<a href=\"https://colab.research.google.com/github/eclipse2ant/math_walk/blob/master/math_walk_reference.ipynb\" target=\"_parent\"><img src=\"https://colab.research.google.com/assets/colab-badge.svg\" alt=\"Open In Colab\"/></a>"
      ]
    },
    {
      "cell_type": "markdown",
      "source": [
        "#０. はじめに"
      ],
      "metadata": {
        "id": "rfewps-Q9abS"
      }
    },
    {
      "cell_type": "markdown",
      "source": [
        "- ここでは、コンピュータに関して、自分の記録も含めて、やってることを書いていこうと思います。非定期に更新していくので、github ですから、履歴を見るとわかると思います。<br> やりたいことは関数型プログラミングの実際　また同じことですが  **React**  また　スクレイピング。Selenium や　Puppeteer　また自然言語処理 BERT GPT-3 など　　Rus,t Go  ほかにもいいろいろです。データサイエンス関係も扱います。\n"
      ],
      "metadata": {
        "id": "P1KqZkx5zHBf"
      }
    },
    {
      "cell_type": "markdown",
      "source": [
        "#1. オブジェクト指向と関数型プログラミングの関係　および　Kotlin"
      ],
      "metadata": {
        "id": "QDUQsl3x4pyR"
      }
    },
    {
      "cell_type": "markdown",
      "source": [
        "\n",
        "- [From Objects to Functions  \\(Build Your Software Faster and Safer with Functional Programming and Kotlin\\) by Uberto Barbini](https://pragprog.com/titles/uboop/from-objects-to-functions/)\n",
        "\n",
        "アマゾンでペーパー版は買えるようです。(私は電子版をこのサイトから。ベータ版１のころから持ってます）\n",
        "\n",
        "- この本についてやっていこうと思います。とりあえず、Kotlin の環境整備から。これは　 [IntelliJ IDEA ](https://www.jetbrains.com/ja-jp/idea/) でIDEをコミュニティ版（無償）をDLしてインストールしました。使い方の最初は、[Kotlin サーバーサイドプログラミング実践開発 ](https://www.amazon.co.jp/Kotlin-%E3%82%B5%E3%83%BC%E3%83%90%E3%83%BC%E3%82%B5%E3%82%A4%E3%83%89%E3%83%97%E3%83%AD%E3%82%B0%E3%83%A9%E3%83%9F%E3%83%B3%E3%82%B0%E5%AE%9F%E8%B7%B5%E9%96%8B%E7%99%BA-%E7%AB%B9%E7%AB%AF-%E5%B0%9A%E4%BA%BA-ebook/dp/B091PGXHJY/ref=tmm_kin_swatch_0?_encoding=UTF8&qid=1682770111&sr=8-4) を参照しました。\n"
      ],
      "metadata": {
        "id": "8qdhmYf70s31"
      }
    },
    {
      "cell_type": "markdown",
      "source": [
        "- 現在　やってること　 まず\n",
        "[チュートリアル: Kotlin によるテスト駆動開発](https://pleiades.io/help/idea/tdd-with-kotlin.html) をやります。これは前述の本でテストから入るからです。ケント・ベックのテスト駆動開発とはまず先にテストを書いて、それを達成するコードを書くというやり方です。教育で言う「めあて」を書いてやるやり方ですかね。このメリットは前述の本に書いてあります。ただしここで、本のなかでテストのために　assertionに使ってるのが　STRIKT　というライブラリで[Installation](https://strikt.io/wiki/getting-started/) にあるようなやり方でインストールします。これで実行環境は整いました。"
      ],
      "metadata": {
        "id": "_ioeG4aR3MS6"
      }
    },
    {
      "cell_type": "markdown",
      "source": [
        "- どうしても、本をいろいろ買わないといけないですね。ここでは、関数型のプログラムを書くために前述の本を読もうとしてますが、この本自体はKotlinのことはあまり触れてない。そこで、kotlin の本　ただし　欲を言えば、関数型（以下FPと書きます)のことを書いた本がほしい、ということで、次の3冊を買う羽目に<br>\n",
        "[Kotlin in Action (English Edition) 1st 版, Kindle版](https://www.amazon.co.jp/Kotlin-Action-English-Dmitry-Jemerov-ebook/dp/B09781V4J2/ref=tmm_kin_swatch_0?_encoding=UTF8&qid=1682770492&sr=8-1)\n",
        "これは　すでに2ndがmeap 版 (Manning Early Access Program (MEAP)　いわゆる　β版ですね<br>\n",
        "[Kotlin in Action, Second Edition](https://www.manning.com/books/kotlin-in-action-second-edition) がManningのサイトから買えましてこっちで買うと1stもPDF　kindle　epub形式　全部取れます。これと<br>\n",
        "[Functional Programming in Kotlin (English Edition) Kindle版](https://www.amazon.co.jp/Functional-Programming-Kotlin-English-Vermeulen-ebook/dp/B09DZ5Q233/ref=tmm_kin_swatch_0?_encoding=UTF8&qid=1682770492&sr=8-9) を買いました。これが、FPを目指したものです。もう一冊　買ってますがそれは後でいいます。この本で、著者が　Scalaの　Functinal Scala をお手本にして　それとお同じようなものをKotlinで書こうとした、しかし　Typed　FP　ってあって違いは何かなぁってのと　ScalaとKotlinの関係を調べるためにも　Scalaの本が必要になりました。手なわけで<br>\n",
        "[Scala in Action: Covers Scala 2.10 (English Edition) 1st 版, Kindle版](https://www.amazon.co.jp/s?k=scala+in+action&__mk_ja_JP=%E3%82%AB%E3%82%BF%E3%82%AB%E3%83%8A&crid=30WBVY4WGFVZJ&sprefix=scala+in+action%2Caps%2C184&ref=nb_sb_noss)<br>\n",
        "それとFPのほうの<br>\n",
        "[Functional Programming in Scala (English Edition) 1st 版, Kindle版](https://www.amazon.co.jp/Functional-Programming-Scala-English-Chiusano-ebook/dp/B09781WXH9/ref=tmm_kin_swatch_0?_encoding=UTF8&qid=1682771538&sr=8-5) を買いました。すでに2nd 出るみたいだけど、とりあえず1stが名著のようですね。\n",
        "\n",
        " あと内容見て<br>\n",
        " [Functional Kotlin: Extend your OOP skills and implement Functional techniques in Kotlin and Arrow (English Edition) Kindle版](https://www.amazon.co.jp/Functional-Kotlin-implement-techniques-English-ebook/dp/B078JRKFYF/ref=tmm_kin_swatch_0?_encoding=UTF8&qid=1682771860&sr=8-1)も買っています。<br>\n",
        " まあ、いろいろ買わないとわからねいので仕方ないですね。。。"
      ],
      "metadata": {
        "id": "33CvF1be6_yA"
      }
    },
    {
      "cell_type": "markdown",
      "source": [
        "- さて最後の本はまだわかりませんが、他の本で序文を見る限り、Scalaが先発で、OOPとFPを同時に扱おうとした、新しい言語として2013 あたりに位置づけがあります。後発はKotlinです。したがって少しScalaを先に読んで見る価値はあります。といっても同時進行ですね。"
      ],
      "metadata": {
        "id": "hNHntpHMBqJV"
      }
    },
    {
      "cell_type": "markdown",
      "source": [
        "- 日本語の本で買ってるのは<br>[Kotlin サーバーサイドプログラミング実践開発](https://www.amazon.co.jp/gp/product/B091PGXHJY/ref=ppx_yo_dt_b_search_asin_title?ie=UTF8&psc=1)<br>[速習 Kotlin: Javaより簡単！新Android開発言語を今すぐマスター 速習シリーズ](https://www.amazon.co.jp/gp/product/B07HQMNLCV/ref=ppx_yo_dt_b_search_asin_title?ie=UTF8&psc=1)<br>[基礎＆応用力をしっかり育成！Androidアプリ開発の教科書 第2版 Kotlin対応 なんちゃって開発者にならないための実践ハンズオン](https://www.amazon.co.jp/gp/product/B08WX6RCQ9/ref=ppx_yo_dt_b_search_asin_title?ie=UTF8&psc=1)<br>[みんなのKotlin　現場で役立つ最新ノウハウ！](https://www.amazon.co.jp/gp/product/B0845M72HB/ref=ppx_yo_dt_b_search_asin_title?ie=UTF8&psc=1)<br> なんかいろいろ買ってますが、意外と役に立たないのです。関数型を意識したものは英語のものしかないですね。ほかの部分では役に立つかもしれませんが。Functional Programming in Scala　の　訳本は<br> **<font color=\"red\"> Scala関数型デザイン&プログラミング―Scalazコントリビューターによる関数型徹底ガイド</font>**<br>  ですが　なぜか　今はアマゾンでは扱ってないですね。[目次はここで書かれてます。](https://haskell.hatenablog.com/entry/Functional-Programming-in-Scala)<br>**<font color=\"red\">PDF版はここにあります。</font>**<br>[Scala関数型デザイン&プログラミング―Scalazコントリビューターによる関数型徹底ガイド](https://book.mynavi.jp/manatee/books/detail/id=54340?fbclid=IwAR0_HlIiX3VOqleujc-qYVRnm0iYUz99vnWW3MfLV52OZvXWHH-8EXEkzUQ)"
      ],
      "metadata": {
        "id": "ba43HbouPS9u"
      }
    },
    {
      "cell_type": "markdown",
      "source": [
        "- **<font color=\"red\">Scala と Kotlin</font>** <br>[こんなに違う！Scala と Kotlin](https://speakerdeck.com/kaelaela/konnaniwei-u-scalatokotlin?slide=35)<br> うーーん、どう違うんだろう、関係は複雑ですね。\n"
      ],
      "metadata": {
        "id": "UGawlAcx2ud3"
      }
    },
    {
      "cell_type": "markdown",
      "source": [
        "- [Kotlin - Ready for Production • Hadi Hariri • GOTO 2016](https://www.youtube.com/watch?v=R0J_Jl7bKY8&t=63s)"
      ],
      "metadata": {
        "id": "FvY8ao5ptF3O"
      }
    },
    {
      "cell_type": "markdown",
      "source": [
        "- まず, 本ですが [.Functional.Programming.in.Scala](https://github.com/fan-zheng/books/blob/master/Manning.Functional.Programming.in.Scala.2014.8.pdf) があります。 [pdf](https://drive.google.com/file/d/1b7vOuqP3YsZMgJZ0k7lTTzVLKfccTaT0/view?usp=share_link)"
      ],
      "metadata": {
        "id": "SzeJortlTuBf"
      }
    },
    {
      "cell_type": "markdown",
      "source": [
        "##1.1. Http4k"
      ],
      "metadata": {
        "id": "T9StqtOz6wT4"
      }
    },
    {
      "cell_type": "markdown",
      "source": [
        "- [http4k の　GitHub](https://github.com/http4k/http4k)"
      ],
      "metadata": {
        "id": "JlN7HsUC7A-8"
      }
    },
    {
      "cell_type": "markdown",
      "source": [
        "##1.2. How to Teach ChatGPT to write clean code"
      ],
      "metadata": {
        "id": "-5coYdIAol55"
      }
    },
    {
      "cell_type": "markdown",
      "source": [
        "[How to Teach ChatGPT to write clean code](https://www.youtube.com/watch?v=4v0VuxZeIIY)"
      ],
      "metadata": {
        "id": "lWGoESVAoplr"
      }
    },
    {
      "cell_type": "markdown",
      "source": [
        "##1.3. Scala"
      ],
      "metadata": {
        "id": "hq_RejMYRiXZ"
      }
    },
    {
      "cell_type": "markdown",
      "source": [
        "- まず, 本ですが [Scalar in Action](https://github.com/fan-zheng/books/blob/master/Scala%20in%20Action.pdf) があります。 [pdf](https://drive.google.com/file/d/1b7vOuqP3YsZMgJZ0k7lTTzVLKfccTaT0/view?usp=share_link)"
      ],
      "metadata": {
        "id": "5o3PYTkkRqZH"
      }
    },
    {
      "cell_type": "markdown",
      "source": [
        "- Scala のインストールは まずScalaのサイト [The Scala Programming Language](https://www.scala-lang.org/) から GET STARTED にいって、コマンド・ラインで使うものを　インストール　続いて　Using IntelliJ のところへ行って、IntelliJ で Scala を使うインストールをします。\n"
      ],
      "metadata": {
        "id": "tBwd5DgxU9qA"
      }
    },
    {
      "cell_type": "markdown",
      "source": [
        "- [「関数型プログラミングの学習・教育」についていろいろ聞いてみた](https://speakerdeck.com/j5ik2o/she-nei-nomenbani-guan-shu-xing-puroguramingunoxue-xi-jiao-yu-nituiteiroirowen-itemita?slide=21)"
      ],
      "metadata": {
        "id": "Ko-ad3hO8zFG"
      }
    },
    {
      "cell_type": "markdown",
      "source": [
        "#2. BERT, GPT-3, 自然言語処理, ChatGPT"
      ],
      "metadata": {
        "id": "mmglACE85SO2"
      }
    },
    {
      "cell_type": "markdown",
      "source": [
        "##2.1. ChatGPT"
      ],
      "metadata": {
        "id": "GYGm3gQt5awr"
      }
    },
    {
      "cell_type": "markdown",
      "source": [
        "- 対話型AI　ChatGPT に関して　[先読み!IT×ビジネス講座 ChatGPT 対話型AIが生み出す未来](https://www.amazon.co.jp/%E5%85%88%E8%AA%AD%E3%81%BF-%C3%97%E3%83%93%E3%82%B8%E3%83%8D%E3%82%B9%E8%AC%9B%E5%BA%A7-ChatGPT-%E5%AF%BE%E8%A9%B1%E5%9E%8BAI%E3%81%8C%E7%94%9F%E3%81%BF%E5%87%BA%E3%81%99%E6%9C%AA%E6%9D%A5-%E5%8F%A4%E5%B7%9D%E6%B8%89%E2%BC%80-ebook/dp/B0BZY841LS/ref=sr_1_2_sspa?__mk_ja_JP=%E3%82%AB%E3%82%BF%E3%82%AB%E3%83%8A&crid=132K6QN26R3RM&keywords=ChatGPT&qid=1682216198&sprefix=chatgpt%2Caps%2C180&sr=8-2-spons&psc=1&spLa=ZW5jcnlwdGVkUXVhbGlmaWVyPUFFUDI4UzNBUUFEUk0mZW5jcnlwdGVkSWQ9QTA3Mjc3MDg4TkdITEVJNTVQWFQmZW5jcnlwdGVkQWRJZD1BMUQ1OEYyUk5VRVhITSZ3aWRnZXROYW1lPXNwX2F0ZiZhY3Rpb249Y2xpY2tSZWRpcmVjdCZkb05vdExvZ0NsaWNrPXRydWU=) って本を買いました、それと　[日経サイエンス2023年5月号](https://www.amazon.co.jp/%E6%97%A5%E7%B5%8C%E3%82%B5%E3%82%A4%E3%82%A8%E3%83%B3%E3%82%B92023%E5%B9%B45%E6%9C%88%E5%8F%B7-%E9%9B%91%E8%AA%8C-%E6%97%A5%E7%B5%8C%E3%82%B5%E3%82%A4%E3%82%A8%E3%83%B3%E3%82%B9-ebook/dp/B0BZCSD6TY/ref=sr_1_1?__mk_ja_JP=%E3%82%AB%E3%82%BF%E3%82%AB%E3%83%8A&crid=3D7TEDBS4JWK1&keywords=%E6%97%A5%E7%B5%8C%E3%82%B5%E3%82%A4%E3%82%A8%E3%83%B3%E3%82%B9&qid=1682216581&sprefix=%E6%97%A5%E7%B5%8C%E3%82%B5%E3%82%A4%E3%82%A8%E3%83%B3%E3%82%B9%2Caps%2C173&sr=8-1) にも特集で出ています。こちらにはこの授業で扱う圏論の特集と量子コンピュータで、情報喪失行わないとエントロピーが増大しないとは熱が起こらないシステムの話も出ています。あと光合成のメカニズム解明でいままでわかっていなかったところの話が特集にあります。"
      ],
      "metadata": {
        "id": "V3QFuXh36MMd"
      }
    },
    {
      "cell_type": "markdown",
      "source": [
        "##2.2. 放送大学の自然言語処理(2023)　　と　BERT\n"
      ],
      "metadata": {
        "id": "EcGKS1V88MXj"
      }
    },
    {
      "cell_type": "markdown",
      "source": [
        "- 今年度内容が新しくなって、Tranformer や最新の進展が聞けます。Transformer　を理解するのに　いくつか本も買ってます。\n",
        "\n",
        "- [Getting Started with Google BERT: Build and train state-of-the-art natural language processing models using BERT](https://www.amazon.com/gp/product/B08LLDF377/ref=ppx_yo_dt_b_d_asin_title_o00?ie=UTF8&psc=1) とに日本語での解説本をやっていこうと思ってます。"
      ],
      "metadata": {
        "id": "6D8mJVmT8Vgz"
      }
    },
    {
      "cell_type": "markdown",
      "source": [
        "- [60分でできるBERT(英語テキストの感情分析)](https://qiita.com/makaishi2/items/cb97f6a70a12db55443b?fbclid=IwAR1psg1FXzYr9KRT4IxGAALKCoxAScQgPecIDivAwObDb-BFrZwijfDjUSc)"
      ],
      "metadata": {
        "id": "88sLpggiN5yC"
      }
    },
    {
      "cell_type": "markdown",
      "source": [
        "-  [Transformers](https://huggingface.co/docs/transformers/index) <br>\n",
        "[Transformers (github)](https://github.com/huggingface/transformers/tree/main/src/transformers)\n"
      ],
      "metadata": {
        "id": "XteZ9qCrOxG6"
      }
    },
    {
      "cell_type": "markdown",
      "source": [
        "- Transformer　を最初に述べた論文が<br><br>\n",
        "https://arxiv.org/abs/1706.03762<br><br>\n",
        "https://proceedings.neurips.cc/paper_files/paper/2017/file/3f5ee243547dee91fbd053c1c4a845aa-Paper.pdf<br><br>\n",
        " Attention Is All You Need<br><br>\n",
        "って論文です。 <p>\n",
        "　このタイトルきいてピーンときませんか？　all you need is kill    もともと　日本の漫画らしいですが、映画になりましたね<br>　トム・クルーズ主演で、エイリアンの侵略でエイリアンの血を浴びて死んだおかげで死ぬとある時間の地点まで戻ってまたやり直せる、しかも、前の記憶は残ってるという。で、戦うためには、負傷したら、迷わず死ぬことって設定で、輸血などするとその能力は失われる。たぶん、論文のタイトルはこの話を知ってるんでしょうね、<p>\n",
        "　クロネコの最近のLineの不在や届日の設定変更のチャットのサービスなんかつかってないのかなぁ？あれよくできてるから。その際のかなめが　Transformerです。<br>　self atention とか用語が出てきます。この原理では行列を使ってますから、文系の方も、嫌がらずに、放送大学やいろんな授業で線形代数を学ぶようにしましょう。"
      ],
      "metadata": {
        "id": "axNS2etC5wW6"
      }
    },
    {
      "cell_type": "markdown",
      "source": [
        "- [Transformer/BERTの情報](https://kamonohashiperry.com/archives/5262)"
      ],
      "metadata": {
        "id": "haFewqM_VbrR"
      }
    },
    {
      "cell_type": "markdown",
      "source": [
        "- [深層学習】Transformer - Multi-Head Attentionを理解してやろうじゃないの](https://www.youtube.com/watch?v=50XvMaWhiTY&t=1s) Youtube 動画\n",
        "- [【完全保存版】GPT を特定の目的に特化させて扱う (Fine-tuning, Prompt, Index, etc.)](https://qiita.com/tmgauss/items/22c4e5e00282a23e569d)\n",
        "- [【深層学習】Scaling Law - 大きい Transformer は強い【ディープラーニングの世界vol.38】#123](https://www.youtube.com/watch?v=n1QYofU3_hY)\n",
        "- [【ディープラーニングの世界 vol. 1 ](https://www.youtube.com/watch?v=SyWwoMpP_P4&list=PLhDAH9aTfnxKXf__soUoAEOrbLAOnVHCP)"
      ],
      "metadata": {
        "id": "q4Dnqta_8qvv"
      }
    },
    {
      "cell_type": "markdown",
      "source": [
        "#３. React"
      ],
      "metadata": {
        "id": "qUVHrlNmLlW7"
      }
    },
    {
      "cell_type": "markdown",
      "source": [
        "##3.1. とりあえず"
      ],
      "metadata": {
        "id": "EyL4dvGXLrRb"
      }
    },
    {
      "cell_type": "markdown",
      "source": [
        "- [React 総復習！ Reactの大事な部分を紹介します！！ (youtube 動画](https://www.youtube.com/watch?v=VRbEqvneqL4)\n"
      ],
      "metadata": {
        "id": "OiFC6bdYLyCa"
      }
    },
    {
      "cell_type": "markdown",
      "source": [
        "- [入門編】Reduxによる状態管理の仕組みを理解する](https://zenn.dev/jojo/articles/25c10b27783093?fbclid=IwAR015BfpOq9jb1ZBXWLxU-FGklxSg2J3pyTeBforHeHBJNGX0KuVyHGyqYA)"
      ],
      "metadata": {
        "id": "yrwlRWFhM6d7"
      }
    },
    {
      "cell_type": "markdown",
      "source": [
        "- [Reduxの仕組みを理解する](https://zenn.dev/ryotarohada/articles/9a677d6f7fdc8e?fbclid=IwAR3b2t5YfCZHWllzcZrugUmwx0og2fSxXZsk2ifd6MRh1MlAe8vvCC6ErwY)"
      ],
      "metadata": {
        "id": "iy_uDv-oNlLb"
      }
    },
    {
      "cell_type": "markdown",
      "source": [
        "- ちょっと別枠ですが  　[Rustでの 抽象化 3パターンについて](https://zenn.dev/j5ik2o/articles/045737392958a3?fbclid=IwAR0En9UXK8YheWZu_2NIpReN50h0tAXELGUX7SalRuRHQFD8JyinEmWnieM)"
      ],
      "metadata": {
        "id": "rFOBJBKyM70z"
      }
    },
    {
      "cell_type": "markdown",
      "source": [
        "##3.2. 2023年のお正月に書いた内容です"
      ],
      "metadata": {
        "id": "s_vXLjb0x7Tb"
      }
    },
    {
      "cell_type": "markdown",
      "source": [
        "あけまして、おめでとうございます。　大晦日あたりからこの本を読んでいます。なかなかお勧めの本です。\n",
        "\n",
        "https://booth.pm/ja/items/2368045<br>\n",
        "\n",
        "\n",
        "偏見と怒られそうですが、この著者、女性で、これだけプログラム言語に詳しいってびっくりしました。とはいっても、私はずっとコンピュータのゼミをやっていますが、そこで育った卒業生で優秀なのは女性です。また映画「ドリーム」　NASAで最初にIBMのFortlanで軌道計算を行ったのは黒人女性。\n",
        "https://eiga.com/movie/86262/\n",
        "\n",
        "　という風にすぐ女性でプログラミングを苦手がる人は多いのですが、実際は、男性より細かい作業が女性のほうが本来プログラミングって向いてるようにも思います。この著者もすごい知識です。一応新人さんとはいっても、社会人2年目でRuby On Railsでの開発には携わっていた女子社員と有能な女性プログラマーとの対話形式で　Reactをつかって　Web開発していく話になっています。一冊 １２００円程度で三部作で、電子版でスマホでも読めます。\n",
        "もともと　「ReactとPythonでAPI販売サービスを作ろう」　って本をアマゾンでかってそこから知りました。\n",
        "\n",
        "https://www.amazon.co.jp/gp/product/B0BMPZW444/ref=ppx_yo_dt_b_d_asin_title_o07?ie=UTF8&psc=1<br>\n",
        "\n",
        "React は　Next.js　とかでも出てきます。　関数型プログラミング　と　Reactive　な　フロントエンド　そして　TypeScript  といった　今の技術です。読んでみることをお勧めします。　実際動かせます。この本はＭａｃの環境でasdf という管理ツールから行っています。　Windows では　この本は別のやり方行ってますが、とりあえずWSL2  をいえれて、Windows版Ubuntu で　asdf を使う方法でやりました（本はanydev）\n",
        "\n",
        "\n",
        "https://qiita.com/kikuchi_kentaro/items/d951fa7ca7c9c29a77dc\n",
        "\n",
        "\n",
        "であとは　Shell はBashを使ってるので　.bashrc 　に\n",
        ". $HOME/.asdf/asdf.sh\n",
        "\n",
        ". $HOME/.asdf/completions/asdf.bash\n",
        "\n",
        "\n",
        "で　インストールできます。あとは本と同じ、普通にUbuntuでも同じやり方です。\n",
        "\n",
        "WSL2はWindowsではデフォルトでは、インストールされてないので、\n",
        "https://learn.microsoft.com/ja-jp/windows/wsl/install\n",
        "\n",
        "https://chigusa-web.com/blog/wsl2-win11/\n",
        "\n",
        "\n",
        "この二つを参考にしました。もちろん簡単な　Linuxの知識は必要です。\n",
        "\n",
        "いまはオブジェクト指向は当たり前、関数型プログラミングの時代、reactive 思考はまた別のパラダイムでしょうけど、この二つが入ったものがReact 　そしてTypeScript は欠かせません。当然　VS Code　がエディターにこのエディターもTypeScriptをとかって　Electron をつかって　Erich Gamma　が精力的に作ったものなので多くのプログラム言語の本で使うことを勧められています。なんせGoFのひとり　Eclipseの作者でもありますからね。\n",
        "\n",
        "ということで　読んでいじってみてください。　著者は女性ですから　女性陣頑張って！！"
      ],
      "metadata": {
        "id": "t1OD1LvyyJrp"
      }
    },
    {
      "cell_type": "markdown",
      "source": [
        "# 4. Flutter"
      ],
      "metadata": {
        "id": "542hO2q3gl1r"
      }
    },
    {
      "cell_type": "markdown",
      "source": [
        "##4.1. Flutter 入門"
      ],
      "metadata": {
        "id": "2xwViTzehMrM"
      }
    },
    {
      "cell_type": "markdown",
      "source": [
        "まとまっていないのですが、思いつくまま書いてみます\n",
        "- まず\n",
        "https://www.youtube.com/watch?v=GN6HXSrObzg&t=1s<br>\n",
        "を見てください。　VS Code　から　拡張機能で　Flutterのプラグインをインストールすると勝手にいろいろインストールしてくれます。　Windowsだと Visual Studio の　C++　の部分がインストールがありますが、これも簡単にできます。これで、自動生成されたサンプルをVS Code　で　Runすると　Google　Chrome　で　結果が表示され、ソース変更すれば、そのまま変更が反映されます（保存して、更新ボタンでOK）。インストールに関しては、\n",
        "[Fluutterのサイト](https://docs.flutter.dev/get-started/install?_gl=1*2joxo1*_up*MQ..*_ga*MTc2OTUwMzE1NC4xNzA5Mjg2NzUz*_ga_04YGWK0175*MTcwOTI4Njc1Mi4xLjAuMTcwOTI4Njc1NS4wLjAuMA&fbclid=IwAR2IjpSS_MpKW5XommqfRrAR136eYEUQdgHfJbMrn5nZVW6XM2IV8GQxLac_aem_AVtCAoR2HKFgiefpyiL6tc9lX0TZslt_mr2671P5hCe54-qeZnkGxghs-ohaiXuU7f37OiyzZ8J1zBlY_tgCrsaZ)\n",
        "を見てください。\n"
      ],
      "metadata": {
        "id": "n-cGSeaJhTY6"
      }
    },
    {
      "cell_type": "markdown",
      "source": [
        "- Flutter　はクロスプラットフォームで　OS（Windows、Linux　Android　ChromeOS　iOS Web\n",
        ")\n",
        "によらない　この中には　タブレットやスマートフォン、ディスクトップアプリ、Webアプリ、すべてこれだけで済みます。基本的にフロントエンドに関してすべてこれ一つでOKという　もともとReactが目指した思想をGoogleが実現しちゃった感じです。\n",
        "普通　Flutterの本をみると Android Studio や　Xcodeがでてきて敷居が高いですが、この動画のように　Google　Chrome　だけで動かせるので、それほど重くならない。\n",
        "それでいて　Reactを先取りしています。　例えば<br>\n",
        "https://www.youtube.com/watch?v=FjH-_cESE7Q<br>\n",
        "この中で、Redux や　Riverpod といった話が出てきます\n"
      ],
      "metadata": {
        "id": "wwbYiK5UiJrs"
      }
    },
    {
      "cell_type": "markdown",
      "source": [
        "- 宣言的に書くので、ReactのJSXをすこし変形したものと考えて、対応を考えたらBuild関数は　JSXが JavaScriptのSyntax Sugarで　RaectElemet を生成する関数と対応付けて考えられれる。\n",
        "こんな研修があるので　ChatGPTのAPI使う話もどんどん使われてきます<br>\n",
        "https://www.youtube.com/watch?v=9IqUQ2TXacI<br>\n",
        "プログラム言語の歴史<br>\n",
        "https://www.youtube.com/watch?v=jBksc8SdUF8<br>\n",
        "にあるように　Reactのようなフロントエンドがバックエンドと遊離して後者はクラウドが担うようになった　LAMP　から　MEANや　MERN\n",
        "ただ同時に　バックエンドを関数型で考える際は前から書いている　From Objects　to Functions 　のような話が必要で、そこでいま悩んでるのが　Event Sourcing です。"
      ],
      "metadata": {
        "id": "kpWAThC7ifpE"
      }
    },
    {
      "cell_type": "markdown",
      "source": [
        "##4.2. Mixi のFlutter 研修の動画"
      ],
      "metadata": {
        "id": "4BIhQihKjHcF"
      }
    },
    {
      "cell_type": "markdown",
      "source": [
        "- [Flutter研修【ミクシィ22新卒技術研修】](https://www.youtube.com/watch?v=oQCJZFqDwIo)\n",
        "- [Flutter研修【MIXI 23新卒技術研修】](https://www.youtube.com/watch?v=9IqUQ2TXacI)"
      ],
      "metadata": {
        "id": "lvQVMNWajRJC"
      }
    },
    {
      "cell_type": "markdown",
      "source": [
        "##4.3. 【Flutter/Dart】Googleの生成AIモデルをつかう"
      ],
      "metadata": {
        "id": "2YYhBI8aj5Ok"
      }
    },
    {
      "cell_type": "markdown",
      "source": [
        "- https://zenn.dev/altiveinc/articles/a046ba9d000d4b?fbclid=IwAR3Bwb9UrjMVfih9RNCs6hioemKdcJOz_4pM47xf4k0khK0DaxGEWaWpbe8"
      ],
      "metadata": {
        "id": "cCJuI3wPkE26"
      }
    },
    {
      "cell_type": "markdown",
      "source": [
        "## 4.4. Flutter 入門　動画リスト"
      ],
      "metadata": {
        "id": "6YlaX5UZkLg7"
      }
    },
    {
      "cell_type": "markdown",
      "source": [
        "- [Flutter 入門](ubydog.web.app)　　4.1の最初物動画のシリーズの続きです。32回の入門編と特別回でRiverPod の解説があります。"
      ],
      "metadata": {
        "id": "omOJsGA_kjJ7"
      }
    },
    {
      "cell_type": "markdown",
      "source": [
        "#4.5. Flutter大学"
      ],
      "metadata": {
        "id": "fnZsqHq-lblq"
      }
    },
    {
      "cell_type": "markdown",
      "source": [
        "- [Flutter大学](https://www.youtube.com/channel/UCReuARgZI-BFjioA8KBpjsw/about)"
      ],
      "metadata": {
        "id": "saZSb4XYlq3b"
      }
    },
    {
      "cell_type": "markdown",
      "source": [
        "###4.5.1. Flutterの教科書 by Flutter大学"
      ],
      "metadata": {
        "id": "J1vZVO7gmfE6"
      }
    },
    {
      "cell_type": "markdown",
      "source": [
        "- [Flutterの教科書 by Flutter大学](https://zenn.dev/flutteruniv/books/flutter-textbook)\n",
        "- [Flutterの教科書2 by Flutter大学](https://zenn.dev/flutteruniv/books/flutter-textbook-2)\n",
        "- [リリースまで学べる】位置情報APIを使ったFlutterアプリ開発](https://zenn.dev/flutteruniv/books/flutter-api-textbook)"
      ],
      "metadata": {
        "id": "ra7SVC75mkjr"
      }
    },
    {
      "cell_type": "markdown",
      "source": [
        "#5. 圏論 (Category Theory)"
      ],
      "metadata": {
        "id": "Gd7yRYrmXPHx"
      }
    },
    {
      "cell_type": "markdown",
      "source": [
        "##5.1. 圏論の本"
      ],
      "metadata": {
        "id": "0VD-CXlsXWhA"
      }
    },
    {
      "cell_type": "markdown",
      "source": [
        "- 2.1 でふれた [日経サイエンス2023年5月号](https://www.amazon.co.jp/%E6%97%A5%E7%B5%8C%E3%82%B5%E3%82%A4%E3%82%A8%E3%83%B3%E3%82%B92023%E5%B9%B45%E6%9C%88%E5%8F%B7-%E9%9B%91%E8%AA%8C-%E6%97%A5%E7%B5%8C%E3%82%B5%E3%82%A4%E3%82%A8%E3%83%B3%E3%82%B9-ebook/dp/B0BZCSD6TY/ref=sr_1_1?__mk_ja_JP=%E3%82%AB%E3%82%BF%E3%82%AB%E3%83%8A&crid=3D7TEDBS4JWK1&keywords=%E6%97%A5%E7%B5%8C%E3%82%B5%E3%82%A4%E3%82%A8%E3%83%B3%E3%82%B9&qid=1682216581&sprefix=%E6%97%A5%E7%B5%8C%E3%82%B5%E3%82%A4%E3%82%A8%E3%83%B3%E3%82%B9%2Caps%2C173&sr=8-1)での圏論の特集で、圏論の本の紹介の部分の [ページ](https://drive.google.com/file/d/1lMdTo1nOb3lgcBoWQ-Jhr6uE9-95xs2Z/view?usp=share_link) をアップしておきます。書かれてる本のPDF は　すべてネットでとれちゃうので探してみてください。あと<br>[Category Theory in Context　　 Emily Riehl (著) ](https://www.amazon.co.jp/gp/product/B06XHZ82GF/ref=ppx_yo_dt_b_d_asin_title_o00?ie=UTF8&psc=1)  　は、特集記事の著者自身の本なのですがこれは　Kindle版は　2300円　なので、買ってもいいかもしれません。ついでに　Elements of ∞-Category Theory　も同じ著者です。こっちは圏論の一般化　∞-圏論ですが、一般的なものの方がみやすくなってるのかも。"
      ],
      "metadata": {
        "id": "3tV6nIynXbnh"
      }
    },
    {
      "cell_type": "markdown",
      "source": [
        "#5.2 圏論とHaskell"
      ],
      "metadata": {
        "id": "fJDlGxSXuy1w"
      }
    },
    {
      "cell_type": "markdown",
      "source": [
        "- このまとめはすごいです！！<br>[「圏論とプログラミング」発表スライドメモ](https://qiita.com/inamiy/items/9af1da1faec22cd968f0)<br>[「圏論とプログラミング」スライド](https://speakerdeck.com/inamiy/category-theory-and-programming)"
      ],
      "metadata": {
        "id": "SLwO_7-Cu6Nn"
      }
    },
    {
      "cell_type": "markdown",
      "source": [
        "- **<font color=\"red\">Haskell を　勉強しよう と　∞-圏論で圏論より、さらに綺麗に見よう！！</font><br>**\n",
        "プログラミング勉強するならHaskell ですね。<br>確かに、Pythonは必要なんですが、それはいろんな作業の自動化に使えるから、またデータサイエンスやるにしてもPython必要です。ただこれくらいだったら、それほどコーディングこらないし、Excelの自動化だったら、キノコードのサンプルとってきて、少し変えればよいと思います。<br>\n",
        "でもプログラミングは必要ですがオブジェクト指向から入るのは、もうよくない！！　やっぱり関数型プログラミングだ！！　って感じ。<br>\n",
        "ひとつはここから入ったほうが結局はオブジェクト指向の言語もマスターできると思います。実際Rubyのメタプログラミングやブロックの使い方（これはファースト関数ですね）やPerlなどのクロージャーやPythonの内包表記もすべて関数型プログラミングから借りてきてる。だからこっちを理解すれば、それでよい。それと関数型プログラミングは変数はimmutatable つまり　一度変数は値を代入したら変更できません。<br>だからほかの言語でいやーーーな、とてもいやーーーーな、変数のスコープつまりいつ束縛されてるかを考えなくてすみます。その代わり関数が合成できる。<br>また関数が値として関数を返すことができる、つまり関数と値とは同じ扱い、平等なんです。<br>これは圏論でいうところの米田の補題　つまり　カテゴリーC　から　集合圏　への　反変関手F　を　考えたとき　CのオブジェクトXに対して　Hom（・、X）として　Xを反変関手として見てあげると\n",
        "Hom（X,F）= F(X) 　　ただしここでの射は　関手の自然変換　（＝は　本当は同型の意味）<br>これで　オブジェクトと関手って同じもの思えちゃうわけで、関手が　Hom関手で表されるとき　表現可能っていうのですが、まあ、おおざっぱに言って、オブジェクトと射と関手って見え方が違ってるだけ同じものって極論してしまって三位一体論にしておけば、わかりやすいでしょう。<br>\n",
        "さて　モナドです。　<br>\n",
        "ma-->(a--> mb)  --> mb  <br>\n",
        "ですね。<br>\n",
        "モナドに馴染んできて、どうやって並列性や遅延評価と向き合うかって考えていて、それと同時に関数型プログラミングとは別のパラダイムに思えるリアクティブを使ってる、Reactをどう扱ったらって思いながら、<br>\n",
        "[Category Theory 1.1 Motivation and Philosophy 　(日本語字幕があります)](https://youtu.be/I8LbkfSSR58)<br>\n",
        "を見てて、圏論がプログラム言語として一番Universal　で、　それに一番近く、Universalってのは抽象度が一番高いって意味と思うと、すこし抽象度を下げたのが、Haskellという位置づけで述べられている。OOPの言語でC++のテンプレート・メタプログラミングはめっちゃ難しいけど、それは、Haskellでは簡単に実現できて、それをより抽象度の低いC++に持ち込ん出るから複雑という図式で描いてます。圏論がUniversalだとすると、Reactive を表現できるはずだと思い、ググってたら 先に述べた<br>\n",
        "[「圏論とプログラミング」発表スライドメモ](https://qiita.com/inamiy/items/9af1da1faec22cd968f0)<br>\n",
        "に出くあしました。ここではArrowやコモナドで実現できるそうです。これはもうHaskellになってますね。<br>\n",
        "圏論での随伴や極限、さらにはカン拡張まで出てきて驚きです。これらがプログラミングに使えるなんてちょっと想像つかない。でもだからこそ、最近やたら圏論の本が増えたのかなぁって思います。巷は圏論ブームのような。。。<br>\n",
        "実際、圏論 原著第2版　は訳本ですが、数学を専門にしてない人向けに書かれてます。情報科学や論理学、心理学のひと、<br>\n",
        "Haskell 勉強するなら、「すごいHaskellたのしく学ぼう」　って本がおすすめですが、この本、別にパソコンがなくても読めます。読んで理解できて、しかも楽しい。しかも、全く圏論の話は出てきません。<br>\n",
        "今後は、[カン拡張パッケージ](https://hackage.haskell.org/package/kan-extensions)\n",
        "<br>kan-extensions: Kan extensions, Kan lifts, the Yoneda lemma, and (co)density (co)monads<br>\n",
        "とかで、いろいろ勉強したいですね。<br>\n",
        "実は、恥ずかしながら、数学的にも　カン拡張は、理解していません。<br>なんかホモトピー論のコファイバーかファイバーの図式で斜めの線がそうらしいですが、そうなるとモデル圏の定義あたりに出てきて、最近やっとマクレーンの本に慣れて来たかなぁって感じで今まであのバイブル本はスルーしてきました。<br>30年位あの本が出てきから立って今は2冊ぐらい、圏論の本が出てきて、この前買いましたが、やたら例が多くて読めないのが1冊。もう1冊も手つかずです。さらに一般向けの原書もありますが。。。<br>\n",
        "それと　[日経サイエンス2023年5月号](https://www.amazon.co.jp/%E6%97%A5%E7%B5%8C%E3%82%B5%E3%82%A4%E3%82%A8%E3%83%B3%E3%82%B92023%E5%B9%B45%E6%9C%88%E5%8F%B7-%E9%9B%91%E8%AA%8C-%E6%97%A5%E7%B5%8C%E3%82%B5%E3%82%A4%E3%82%A8%E3%83%B3%E3%82%B9-ebook/dp/B0BZCSD6TY/ref=sr_1_1?__mk_ja_JP=%E3%82%AB%E3%82%BF%E3%82%AB%E3%83%8A&crid=3D7TEDBS4JWK1&keywords=%E6%97%A5%E7%B5%8C%E3%82%B5%E3%82%A4%E3%82%A8%E3%83%B3%E3%82%B9&qid=1682216581&sprefix=%E6%97%A5%E7%B5%8C%E3%82%B5%E3%82%A4%E3%82%A8%E3%83%B3%E3%82%B9%2Caps%2C173&sr=8-1) の圏論の特集記事、圏論を∞-圏論でさらに拡張して、さらにいろんなものを同じに見ようとする試み、圏論にホモトピーを持ち込んでるようなたぶん、単体的複体のn 次元の面を射の拡張としてとらえてるような感じなんだろうか？？<br>\n",
        "∞-圏論って頭が痛いですが、でもこの記事に従い抽象化がたかいほど、綺麗になって、単純化されて、より分かりやすいのかもしれませんが。<br>\n",
        "そんな圏論がプログラム言語としての意味を持つというのは、なんか変な気分。でも　やたらそれで本が出てるのもうなずけますね。<br>\n",
        "プログラミング教育における、プログラミング的思考と圏論とはどう関係するんだろう。ただ圏論が言語としての役割をもってる気もするけど。\n"
      ],
      "metadata": {
        "id": "t4IGZOdsklu3"
      }
    },
    {
      "cell_type": "markdown",
      "source": [
        "- [いろいろ本が紹介されてるサイト](https://ywatanabevltmathscilogic.hatenablog.com/entry/2017/09/02/154648)<br> [このサイトは？](https://bitterharvest.hatenablog.com/archive/category/%E3%83%97%E3%83%AD%E3%82%B0%E3%83%A9%E3%83%9E%E3%83%BC%E3%81%AE%E3%81%9F%E3%82%81%E3%81%AE%E5%9C%8F%E8%AB%96%20%28%E5%88%9D%E7%B4%9A%E7%B7%A8%EF%BC%9A%E5%9C%8F%E8%AB%96%E3%81%A8Haskell%29 )<br> [Bartosz Milewski's Lectute 　 (Youtube)](https://www.youtube.com/@DrBartosz/videos) ----The full course on category theory for programmers by Bartosz Milewski. <br> [Videos on various topics in category theory](https://www.youtube.com/@TheCatsters/videos)-----Video lessons on various category theory topics; not particularly aimed to programmers. <br>[Category Theoryfor Computing Science.pdf](https://www.math.mcgill.ca/triples/Barr-Wells-ctcs.pdf)<br>[圏論を勉強しよう](https://www.cs-study.com/koga/category/index.html?fbclid=IwAR3X8wplKPlrn9QrxEy2BZLtEPIH_5iqUvMfRPXZZs3swp-neGkwopW-8ko) 情報科学のひとのサイトなので、数学の感覚と少し違いますが、いろんな情報が満載です、自身のYoutubeでの解説や他の特に外人さんのサイトの紹介がすごいです。<br>[CategoryTheory for Computing Science　\\(Michael BarrDepartment of Mathematics and Statistics　McGill University\\)](https://www.math.mcgill.ca/triples/Barr-Wells-ctcs.pdf)\n"
      ],
      "metadata": {
        "id": "q024TXrc7bCH"
      }
    },
    {
      "cell_type": "markdown",
      "source": [
        "- [What is an ∞-Category?]( https://www.ams.org/notices/200808/tx080800949p.pdf)　 pdf"
      ],
      "metadata": {
        "id": "ANa9FyaMKs-J"
      }
    },
    {
      "cell_type": "markdown",
      "source": [
        "- https://en.wikipedia.org/wiki/Homotopy_type_theory<br>\n",
        "ふむ、　Higher Category Theory　つまり　∞圏論のコンピューターサイエンス版もあるみたいですね。　最初の例でモデル圏とくる　うーーむ<br>\n",
        "https://en.wikipedia.org/wiki/Higher_category_theory<br>\n",
        "https://www.ams.org/notices/200808/tx080800949p.pdf<br>\n",
        "https://ncatlab.org/nlab/show/infinity-category<br>\n",
        "[Homotopy Type Theory 入門](https://uemurax.github.io/pdfs/hott-intro-ja.pdf) pdf"
      ],
      "metadata": {
        "id": "uh69-Ekt72OP"
      }
    },
    {
      "cell_type": "markdown",
      "source": [
        "#6. 量子計算"
      ],
      "metadata": {
        "id": "dkjCVXj3uBwg"
      }
    },
    {
      "cell_type": "markdown",
      "source": [
        "##6.1. 量子計算\n"
      ],
      "metadata": {
        "id": "ox7sjqxWtL0v"
      }
    },
    {
      "cell_type": "markdown",
      "source": [
        "- [【量子計算】量子ビットと確率【重ね合わせの原理をちゃんと理解しよう！】](https://www.youtube.com/watch?v=zjZS2nceAAY)　Youtube動画"
      ],
      "metadata": {
        "id": "lmdFAW9ktaj3"
      }
    },
    {
      "cell_type": "markdown",
      "source": [
        "# 6. API"
      ],
      "metadata": {
        "id": "2ZhDsi4kVCaS"
      }
    },
    {
      "cell_type": "markdown",
      "source": [
        "- [Designing APIs with Swagger and OpenAPI](https://sd.blackball.lv/books/19014-designing-apis-with-swagger-and-openapi-2022)"
      ],
      "metadata": {
        "id": "DaGBn3bWVHqC"
      }
    },
    {
      "cell_type": "markdown",
      "source": [
        "#8. Python for Bioinformatics - Drug Discovery Using Machine Learning and Data Analysis\n"
      ],
      "metadata": {
        "id": "EwYpAOzjlQTw"
      }
    },
    {
      "cell_type": "markdown",
      "source": [
        "- [Drug Discovery Using Machine Learning and Data Analysis](https://www.youtube.com/watch?v=jBlTQjcKuaY)"
      ],
      "metadata": {
        "id": "YJSCX8Mpm8Q_"
      }
    },
    {
      "cell_type": "markdown",
      "source": [
        "#9.  Differential Equations in PYTHON"
      ],
      "metadata": {
        "id": "oBKGrSdcnYFW"
      }
    },
    {
      "cell_type": "markdown",
      "source": [
        "- [How to Solve Differential Equations in PYTHON](https://www.youtube.com/watch?v=MM3cBamj1Ms&t=19s)"
      ],
      "metadata": {
        "id": "LI9-OFbOmyZn"
      }
    },
    {
      "cell_type": "markdown",
      "source": [
        "#10. ソースコードの解析ツール"
      ],
      "metadata": {
        "id": "Bn_E4_GBWg7i"
      }
    },
    {
      "cell_type": "markdown",
      "source": [
        "ソースコードは４０、５０のファイルがあるのは当たり前です。そこから必要な関数やクラスなどの定義を見つけるのは、至難の業です。"
      ],
      "metadata": {
        "id": "u22IKsdwW_Hg"
      }
    },
    {
      "cell_type": "markdown",
      "source": [
        "##10.1 tcgrep"
      ],
      "metadata": {
        "id": "jNvSWIZvW3kO"
      }
    },
    {
      "cell_type": "markdown",
      "source": [
        "- サブディッレクトリがあっても再帰的検索してくれるツールが[tcgrep](https://metacpan.org/dist/Unicode-Tussle/source/script/tcgrep) というツールで、Perl で書かれてます。Windows 環境でPerlをインストールして使うのもできなくはないですが、[シェルのshebang（シバンまたはシェバン）](https://ageage0830.hatenablog.com/entry/2018/04/17/200000) がないので、不便です。ということでLinux 環境WSL2 をインストールすることをお勧めします。ここでは、Perl はすでにインストールされてます。\n"
      ],
      "metadata": {
        "id": "qixBCjQfXxiN"
      }
    },
    {
      "cell_type": "markdown",
      "source": [
        "- Python をLinuxで使うにはすでにあるPythonを使わずに自分で、自分のホームディレクトリの.local/lib/ 内にPython をソースコードからインストるして使います。インストールの仕方は　[Pythonのインストール](https://www.python.jp/install/ubuntu/index.html) を参照してください。"
      ],
      "metadata": {
        "id": "A3MRqcBflTxW"
      }
    },
    {
      "cell_type": "markdown",
      "source": [
        "# 11. Aicia シリーズ"
      ],
      "metadata": {
        "id": "GqFUeIpAWN-R"
      }
    },
    {
      "cell_type": "markdown",
      "source": [
        "- Aicia さんの有用な動画をまとめておきます。"
      ],
      "metadata": {
        "id": "tWO4N_QeWbyZ"
      }
    },
    {
      "cell_type": "markdown",
      "source": [
        "## 11.1. 量子コンピュータ、量子計算"
      ],
      "metadata": {
        "id": "0IknKeb9Wo8x"
      }
    },
    {
      "cell_type": "markdown",
      "source": [
        "- [【量子計算】量子ビットと確率【重ね合わせの原理をちゃんと理解しよう！】](https://www.youtube.com/watch?v=zjZS2nceAAY&t=19s)\n",
        "\n",
        "- [【量子計算②】量子ゲートとアダマールゲートH【混ざったり分離したり、不思議な量子状態】](https://www.youtube.com/watch?v=4FL-ZlC2ais)\n",
        "\n",
        "- [【量子計算③】2量子ビットと量子計算における関数【ユニタリでないと実現できない】 ](https://www.youtube.com/watch?v=y-CheJv41Js)\n",
        "\n",
        "- [【量子計算④】超高速量子計算アルゴリズムの紹介【Deutsch-Josza のアルゴリズム】](https://www.youtube.com/watch?v=QopR9mjifN4)\n",
        "\n",
        "- [【量子計算⑤】量子超越でも早いとは限らない！ I/O 含めた全体の量子計算エコシステムへ【量子超越性】](https://www.youtube.com/watch?v=pFo1xs9PVjI)"
      ],
      "metadata": {
        "id": "h-jbGnRYW0WR"
      }
    },
    {
      "cell_type": "markdown",
      "source": [
        "## 11.2 ディープラーニング　シリーズ　 （１～４３）"
      ],
      "metadata": {
        "id": "cWtWBJsLZhw6"
      }
    },
    {
      "cell_type": "markdown",
      "source": [
        "- [深層学習】ディープラーニングとは関数近似器である【ディープラーニングの世界 vol. 1 ](https://www.youtube.com/watch?v=SyWwoMpP_P4&list=PLhDAH9aTfnxKXf__soUoAEOrbLAOnVHCP)　　２以降は１の動画からたどれます"
      ],
      "metadata": {
        "id": "1nLCIUEuZtAR"
      }
    },
    {
      "cell_type": "markdown",
      "source": [
        "## 11.3. 確率微分微分方程式　シリーズ　（１～９）\n",
        "\n"
      ],
      "metadata": {
        "id": "rdsxoMvwaawp"
      }
    },
    {
      "cell_type": "markdown",
      "source": [
        "- [【ブラックショールズ方程式への道①】ランダムウォークとブラウン運動【確率微分方程式の基礎】](https://www.youtube.com/watch?v=NE1W0wJH8q8&list=PLhDAH9aTfnxIhf-iRKYTVOSXPqDGgfRFP)  ２以降は１の動画からたどれます"
      ],
      "metadata": {
        "id": "k21kXNsXc1dZ"
      }
    },
    {
      "cell_type": "markdown",
      "source": [
        "## 11.4 強化学習  （１～　）"
      ],
      "metadata": {
        "id": "_apIkOlOdbxS"
      }
    },
    {
      "cell_type": "markdown",
      "source": [
        "- [【強化学習】強化学習は行動選択の科学である【広大な分野だけどコアはこれ！】RL vol. 1 ](https://www.youtube.com/watch?v=jwHVLrtkt5w&list=PLhDAH9aTfnxI1OywfnxXCDTWGtYL2NxJR)   ２以降は１の動画からたどれます"
      ],
      "metadata": {
        "id": "vE6dctNAdmjp"
      }
    },
    {
      "cell_type": "markdown",
      "source": [
        "## 11.5. その他"
      ],
      "metadata": {
        "id": "4X_cIY63eBo5"
      }
    },
    {
      "cell_type": "markdown",
      "source": [
        "- [AIcia Solid Project](https://www.youtube.com/@AIcia_Solid) 　 因子分析やベイズ統計、行列　など"
      ],
      "metadata": {
        "id": "RtX5-Od2eIFx"
      }
    },
    {
      "cell_type": "markdown",
      "source": [
        "#12. Topology ToolKit"
      ],
      "metadata": {
        "id": "lpJ1C77BudIA"
      }
    },
    {
      "cell_type": "markdown",
      "source": [
        " - [ Topology ToolKit](https://topology-tool-kit.github.io/?fbclid=IwZXh0bgNhZW0CMTEAAR0G-0Ac6-4HoHrwbGNjTQhKh7Mopt-u0dILWGda0tikJuisPVCgjfkasu0_aem_AR3VlCWITYSG9_5UVm74j_w9JQ8qTZDYalcTARJhfHhKGNjGc3oPeu5OW6h_FfFXXFBkLk41Uc0uSCIw75Ig8gxl <br> 以下の文章はChatGPTによるものです。\n",
        "\n",
        "\n",
        "Topology ToolKit（TTK）は、計算トポロジーとトポロジカルデータ解析（TDA）を専門とするオープンソースのソフトウェアライブラリです。TTKは、科学的データのトポロジカル解析および可視化を行うために設計されています。これには、永続ホモロジー、モース理論、Reebグラフなどの概念が含まれます。TTKは、データサイエンス、工学、科学研究など、多様な分野での応用を意図しています。\n",
        "TTKの主な特徴は以下の通りです：\n",
        "- **ユーザーフレンドリー**:\n",
        "TTKは、使いやすいAPIと豊富なドキュメントを提供し、計算トポロジーの専門知識がないユーザーでも容易に高度なトポロジカルデータ解析を行うことができます。\n",
        "- **統合性**:\n",
        "ParaViewやVTK（Visualization Toolkit）といった一般的な科学技術可視化ツールと統合されており、データの可視化と解析をシームレスに行うことが可能です。\n",
        "- **拡張性と汎用性**:\n",
        "TTKはC++で実装されており、高いパフォーマンスと柔軟性を持ち合わせています。さらに、Pythonバインディングを通じて、Pythonからも容易にアクセスできます。\n",
        "- **教育と研究の支援**:\n",
        "教育目的や学術研究に非常に適しており、多くの研究論文やプロジェクトでTTKを利用した事例が報告されています。\n",
        "TTKは、特に科学的データセットの解析や可視化において強力なツールです。流体動力学、材料科学、生物学、気象学など、複雑なデータが生じるあらゆる分野で有用です。その汎用性と拡張性により、研究者やエンジニアはデータのトポロジカルな特徴を探求し、新たな洞察を得ることができます。\n",
        "\n",
        "\n",
        "計算トポロジー（Computational Topology）用のソフトウェアやライブラリは、トポロジカルデータ解析（TDA）や永続ホモロジーなどの計算をサポートし、研究や応用のために開発されています。以下は、そのようなツールの一部です。\n",
        "1. **GUDHI (Geometry Understanding in Higher Dimensions)**:\n",
        "GUDHIは、トポロジカルデータ解析や永続ホモロジーをサポートするライブラリで、多様体の再構成、複雑なデータ構造の解析、永続図の生成など、幅広い機能を提供します。C++で書かれており、Pythonインターフェースも提供されています。\n",
        "2. **Ripser**:\n",
        "Ripserは、非常に高速な永続ホモロジー計算を可能にするライブラリです。特に、スパースなデータセットに対して効率的に動作し、大規模なデータセットに対するトポロジカル特徴の抽出を可能にします。RipserはC++で実装されていますが、Python用のラッパーも存在します。\n",
        "3. **TDAstats**:\n",
        "TDAstatsはR言語で書かれたパッケージで、トポロジカルデータ解析を容易に行えるように設計されています。永続ホモロジーの計算や、統計的手法を用いたデータセット間の比較などが可能です。\n",
        "4. **HomCloud**:\n",
        "HomCloudは、画像データや点群データからの永続ホモロジー計算をサポートするPythonパッケージです。多様体のトポロジカルな特徴を抽出し、それらの特徴を基にしたデータ解析を行うことができます。\n",
        "5. **JavaPlex**:\n",
        "JavaPlexはJava言語で書かれたライブラリで、トポロジカルデータ解析のためのツールを提供します。永続ホモロジーの計算だけでなく、複雑なデータ構造の可視化なども可能です。\n",
        "これらのツールは、科学研究やデータ解析の分野で広く利用されており、それぞれ特定の機能や性能に特化しています。使用するデータの種類や解析の目的に応じて、適切なツールを選択することが重要です\n",
        ")"
      ],
      "metadata": {
        "id": "oEew00HkupPk"
      }
    },
    {
      "cell_type": "markdown",
      "source": [
        "#13. Python for Programmers"
      ],
      "metadata": {
        "id": "5qi9_-VwvbOl"
      }
    },
    {
      "cell_type": "markdown",
      "source": [
        "- https://github.com/aaaastark/Data-Scientist-Books/blob/main/Python%20for%20Programmers%20with%20Big%20Data%20and%20Artificial%20Intelligence%20Case%20Studies%20by%20Paul%20J.%20Deitel%2C%20Harvey%20Deitel%20(z-lib.org).pdf"
      ],
      "metadata": {
        "id": "SmMixugmwCo0"
      }
    },
    {
      "cell_type": "markdown",
      "source": [
        " - [サンプルコードはここから](https://github.com/eclipse2ant/PythonForProgrammers)<br> Twitter API の2022年の変更にも対応している模様"
      ],
      "metadata": {
        "id": "lAJVHZWlwgZ-"
      }
    },
    {
      "cell_type": "markdown",
      "source": [
        "#14. Mastering Python for Bioinformatics<br> Pythonではじめる バイオインフォマティクス 可読性・拡張性・再現性のあるコードを書くために"
      ],
      "metadata": {
        "id": "KlfmQjoSslyU"
      }
    },
    {
      "cell_type": "markdown",
      "source": [
        "- https://dokumen.pub/qdownload/mastering-python-for-bioinformatics-9781098100889-v-7497094.html"
      ],
      "metadata": {
        "id": "PijxLQyqtxa8"
      }
    },
    {
      "cell_type": "markdown",
      "source": [
        "- Pythonではじめる\n",
        "バイオインフォマティクス\n",
        "可読性・拡張性・再現性のあるコードを書くために\n",
        "という本を買いました。\n",
        "バイオインフォマテックスって最初はPerlでその後BioConductor　ってRを普及させる原動力になったproject(?) があり、いまは　Pythonにきているのでしょうか？"
      ],
      "metadata": {
        "id": "yu2IEtH4A825"
      }
    },
    {
      "cell_type": "markdown",
      "source": [
        "- 生物や化学、分子生物学や量子科学計算、以前紹介した　Python for Bioinformatics - Drug Discovery Using Machine Learning and Data Analysis\n",
        "https://www.youtube.com/watch?v=jBlTQjcKuaY\n",
        "を含め、いろいろチャレンジさせてみるのもいいかもしれません。"
      ],
      "metadata": {
        "id": "QYbTudR0Bk4c"
      }
    },
    {
      "cell_type": "markdown",
      "source": [],
      "metadata": {
        "id": "YUodMut5CGzS"
      }
    },
    {
      "cell_type": "markdown",
      "source": [
        "- 以下は引用文ですが　OOPをなるべく使わず関数型で、ただし例外処理はコードが何をしたいのか見えなくなるので書かない主義で、これはMonadで逃げる関数型の思想に近いでしょう。<bR>あとJupyter Notebook　と　VS.code やPyCharmなどの開発環境の併用を勧めています。またLinuxのCUIになれるように勧めています。diff 　やパイプ、（いろんなテキスト処理がデータ処理として必要に個人的には思ってます）　様々な操作を行うことに慣れるために　ChromebookでもLinuxモードでいろいろ慣れておくことは大事だと思います。個人的には　非力なChromBookで　Linuxモードで　Pythonのソースから./configure  --prefix /home/user/.local　　make    make install   でソースから構築するのは良い教育効果を生むと思います。これがC言語、いっぱいコンパイルされてPythonができるさまは、一度は見せといた方が　https://www.python.jp/install/ubuntu/index.html　にやり方がありますが５回ぐらい最近やってますが、いちどもエラーにならずに最後まで行くのは、すごいなぁって（昔だったらあり得ない！！）\n",
        "以下は引用です（以前書いた、Discode.pyでもそうですがOOPからFPへとのパラダイムシフトが感じられますね）"
      ],
      "metadata": {
        "id": "u5jBD_IpATDD"
      }
    },
    {
      "cell_type": "markdown",
      "source": [
        "- ーーーーーーーーーーーーーーーーーー 引用 ーーーーーーーーーーーーーーーーーーーー<br>\n",
        "本書を最大限に活用するためには、事前に Pythonをしっかりと理解している必要があります。本書では、文字列、リスト、タプル、辞書、セット、名前付きタプルなどの Pythonデータ構造の使い方を紹介した書籍『Tiny Python Projects』（Manning、 2020 年）で教えたスキルをもとに、 Pythonの使い方を紹介します。 Pythonのエキスパートである必要はありませんが、この本で紹介する型、正規表現、高階関数に関する考え方などの高度な概念や、スタイル、構文、正確さをチェックするための pylint、 flake8、 yapf、 pytestといったツールの使い方やテストについても理解してもらいます。特筆すべき点は、本書のすべてのコードでは一貫して型アノテーションを使用し、 mypyツールで型の正しい使い方を確認することです。"
      ],
      "metadata": {
        "id": "Hn3QpByJCa-p"
      }
    },
    {
      "cell_type": "markdown",
      "source": [
        "- プログラミングスタイル：私がOOPと例外を避ける理由\n",
        "私は、オブジェクト指向プログラミング（OOP）を避ける傾向にあります。もし OOPの意味がわからなくても大丈夫です。 Pythonはオブジェクト指向言語であり、文字列から集合型に至るまで、ほとんどすべての要素は技術的には内部状態とメソッドを持つオブジェクトと言えます。 OOPの意味を理解するのに十分な数のオブジェクトに出会いますが、私が紹介するプログラムでは、アイデアを表現するためにオブジェクトを使用することは極力避けています。\n",
        "とはいうものの、第1 章では、 クラスを使って複雑なデータ構造を表現する方法を紹介しています。 クラスを使うと、データ構造を型アノテーション付きで定義できるので、データ型を正しく使っているかどうかを確認できます。これは、 OOPについて少し理解するのに役立ちます。例えば、クラスはオブジェクトの属性を定義し、クラスは親クラスから属性を継承することができます\n",
        "。"
      ],
      "metadata": {
        "id": "hP6n2DZaCmmB"
      }
    },
    {
      "cell_type": "markdown",
      "source": [
        "- しかし、このことが本質的に、私がPythonで OOPを使うことに限界を感じている理由です。もし、今すぐには完全に理解できなくても、心配しないでください。一度見れば理解できるはずです。オブジェクト指向のコードの代わりに、ほとんど関数だけで構成されたプログラムを紹介します。これらの関数は、与えられた値に対してのみ動作するという意味で、 純粋な関数です。つまり、純粋な関数は、グローバル変数のような、隠された変更可能な状態に依存することはありませんし、同じ引数が与えられれば常に同じ値を返します。さらに、すべての関数には関連するテストがあり、そのテストを実行することでその関数の振る舞いが予測可能と確認できます。これは、OOPで書かれたソリューションよりも、より透明でテストしやすい短いプログラムにつながるというのが私の考えです。もちろん、テストに合格する限り、どのようなプログラミングスタイルでソリューションを書いてもかまいません。関数型プログラミング HOWTOドキュメント（https://docs.python.org/ja/3/howto/functional.html）は、なぜ Python が関数型プログラミング（FP）に適しているのかを解説している好事例です。"
      ],
      "metadata": {
        "id": "aSuWyWCzCuqi"
      }
    },
    {
      "cell_type": "markdown",
      "source": [
        "- 最後に、本書のプログラムでは例外を使わないようにしています。例外は、個人で書く短いプログラムには適していると思います。例外処理によってプログラムの流れが阻害されないように管理することは、もう一段階複雑さを増し、プログラムを理解する能力を損なうと私は思います。\n",
        "Pythonでエラーを返す関数の書き方には、私は一般的に不満があります。多くの人は例外を発生させ、 try/catchブロックに間違いを処理させるでしょう。私は例外が正当化されると感じたら、多くの場合、それをキャッチせず、代わりにプログラムをクラッシュさせることを選択します。この点で、私は Erlang言語の作者である Joe Armstrongの考えに倣っています。彼は「Erlangの『やり方』はハッピーパスを書くことであり、エラー訂正コードでいっぱいの曲がりくねった小道を書くことではない」と言っています。"
      ],
      "metadata": {
        "id": "CSUXLWDQC3ZB"
      }
    },
    {
      "cell_type": "markdown",
      "source": [
        "\n",
        "　　　　　本書の構成\n",
        "この本は大きく 2 つのパートに分かれています。第Ⅰ部は、 Rosalind.infoのウェブサイト（https://rosalind.info/about）にあるプログラミングの課題のうち、 14 の課題に取り組んでいます＊ 1 。第Ⅱ部は、バイオインフォマティクスにおいて重要であると私が考える他のパターンや概念を示す、より複雑なプログラムについて説明しています。各章ではコーディングの課題が説明され、動作するプログラムを書くことができたかを判断するテストスイートが提供されています。\n",
        "Zen of Python（https://oreil.ly/20PSy）では、「そのために必要な方法は 1 つ、できれば1 つだけであるべきだ」と書かれていますが、私は問題に対して多くの異なるアプローチを試みることによって、多くのことが学べると信じています。 Perlは私のバイオインフォマティクスへの入り口であり、 Perlコミュニティの「やり方は 1 つではない」（TMTOWTDI）の精神は、今でも私の心に響いています。私は通常、各章でテーマとバリエーションのアプローチに従い、 Pythonの構文とデータ構造のさまざまな側面を探るために多くの解法を示しています。\n",
        "　　　　　テスト駆動開発\n",
        "テストを行うこと以上に、テストを設計することは、最も優れたバグ防止策の 1つです。有益なテストを作成するために行わなければならない思考は、コーディングされる前にバグを発見し排除することができます。実際、テスト設計思考は、構想から仕様、設計、コーディング、その他のソフトウェア作成におけるすべての段階でバグを発見し排除することができます。̶̶Boris Beizer、 Software Testing Techniques（Thompson Computer Press）\n",
        "私のすべての実験の根底にあるのは、プログラムが正しく動作し続けることを保証するために、常に実行するテストスイートです。私は機会があればいつでも、 テスト駆動開発（TDD）を教えるようにしています。この考え方は、 Kent Beckが書いた『Test Driven Development』（AddisonWesley、 2002 年）（邦訳『テスト駆動開発』オーム社、 2017 年）で説明されています。 TDDは、コードを書く前にコードのテストを書くことを提唱しています。典型的なサイクルは次のようなものです\n",
        "。\n",
        "1. テストを追加する。\n",
        "2. すべてのテストを実行し、新しいテストが失敗するかどうかを確認する。\n",
        "3. コードを書く。\n",
        "4. テストを実行する。\n",
        "5. コードをリファクタリングする。\n",
        "6. これを繰り返す。\n",
        "本書の GitHubリポジトリ（https://oreil.ly/yrTZZ）には、各プログラムのテストが掲載されています。本書では、テストの実行方法と書き方を説明しています。読者が本書の教材を終了した後には、 TDDを使うことが常識となり、その基本的な良識を信じてもらえたらと思います。テストを最初に考えることで、コーディングに対する理解や探求の仕方が変わり始めることを期待しています。\n",
        "コマンドラインの使用と Python のインストール私は常に Unixコマンドラインを中心的に使って、バイオインフォマティクスの経験を積んできました。日々の仕事の多くは、 Linuxサーバ上でシェルスクリプト、 Perl、 Pythonを使って既存のコマンドラインプログラムをつなぎ合わせています。ノートパソコンでプログラムやパイプラインを書いたりデバッグしたりすることもありますが、自分のツールを高性能計算機（HPC）クラスタ\n",
        "にデプロイして、スケジューラが私のプログラムを非同期に、しかも夜中や週末に、私が監視したり介入したりすることなしに実行することがよくあります。さらに私はデータベースやウェブサイトの構築、サーバの管理はすべてコマンドラインから行いますので、バイオインフォマティクスで成功するためには、この環境をマスターする必要があると強く感じています。\n",
        "プログラムを書き、実行し、テストするために、 VS Code、 PyCharm、 Spyderなどの統合開発環境（IDE）を検討することをお勧めします。これらのツールは、テキストエディタ、ヘルプドキュメント、ターミナルを統合しています。私はすべてのプログラム、テスト、そして本書もターミナルの vimエディタを使って書きました。一方、多くの人はおそらく Sublime、 TextMate、 Notepad++のようなもっとモダンなテキストエディタを使いたいと考えるでしょう。\n",
        "Pythonバージョン 3.8.6 と 3.9.1 を使ってすべての例題プログラムを書き、テストしました ＊ 2。\n",
        "その内のいくつかのプログラムでは、バージョン 3.6 にはなかった Pythonの構文を使っているので、バージョン 3.6 は使わないことをお勧めします。 Pythonバージョン 2.xはもうサポートされていませんので、使用しないことをお勧めします。私は多くの場合、 Pythonのダウンロードページ（https://www.python.org/downloads）から最新版の Python 3 を入手しますが、 Anaconda Pythonディストリビューション（https://www.anaconda.com）を使用しても問題なくダウンロードできました。 Ubuntuの aptや Macの brewのようなパッケージマネージャで最新版をインストールできるでしょうし、ソースからビルドすることも選択できるでしょう。プラットフォームやインストール方法が何であれ、 Pythonは変化し続けるので、最新版を使うことをお勧めします。ほとんど場合、この変化は良い方向に向かっています。\n",
        "いくつかの理由から、 Jupyter Notebookのプログラムとしてではなく、コマンドラインプログラムとして紹介することにしたことに注意してください。私はデータ探索のために Notebookを使うのは好きですが、 Notebookのソースコードは JavaScript Object Notation（JSON）で保存され、ライン指向のテキストではありません。このため、 diffのようなツールを使って 2 つの Notebookの違いを見つけるのは非常に困難です。また、 Notebookはパラメータ化することができません。つま\n",
        "り、プログラムの外部から引数を渡して動作を変更することができず、代わりにソースコード自体を変更しなければならないのです。そのため、プログラムは柔軟性を失い、自動テストを不可能にします。 Pythonをインタラクティブに実行する方法としては、特に Notebookで探求することをお勧めしますが、ここではコマンドラインプログラムの書き方に焦点を当てます。"
      ],
      "metadata": {
        "id": "a1fCbOoMs_tk"
      }
    },
    {
      "cell_type": "markdown",
      "source": [
        "#15. How to Teach ChatGPT to write clean code"
      ],
      "metadata": {
        "id": "zl6OVC1_yoaQ"
      }
    },
    {
      "cell_type": "markdown",
      "source": [
        "- From Objects to Functions の著者の動画で、ChatGPTでコードを書く話のようで面白そうなので掲載しました。\n",
        "https://www.youtube.com/watch?v=4v0VuxZeIIY\n"
      ],
      "metadata": {
        "id": "FjVWGtYFyt9I"
      }
    },
    {
      "cell_type": "markdown",
      "source": [
        "#16. 量子化学計算"
      ],
      "metadata": {
        "id": "vQzFHhmePnNx"
      }
    },
    {
      "cell_type": "markdown",
      "source": [
        "- 最近、現代化学って雑誌を買ってますが、生物や化学、でのコンピュータの利用が著しいですよね。ノーベル賞では物理でも、量子エンタグルメントとかBellの不等式周辺の話（これは日経サイエンスに特集があります）。他はいろいろ現代化学に書かれてます。それとこの雑誌で量子化学のコンピュータ計算しかもPyhtonによる連載もあったので少し検索してみました。ワクチン開発や遺伝子治療、化学反応をコンピュータ上でシミュレートする（これは量子化学計算ですよね？）あたりとか、大きな施設でCernの素粒子の加速器のような感じで、電子を高速化して分子にあてて構造解析とかあるいはそのデータベースの共同利用とか、いろいろ進んできてますよね。放送大学で量子化学って科目がありますが、基本的にシュレディンガー方程式（つまり、ディラック方程式でなく、非相対論的）からさらに多体問題を扱うのにいろんな近似計算を行ってる感じで、同じく放送大学の　量子物理学で、場の量子論で物性物理を解いたりする際はなしとか、関連があるのかもしれません。Pythonでいろいろできるようなので、少し調べてみました。\n",
        "https://future-chem.com/psi4-intro/...\n",
        "https://zenn.dev/saitom_tech/articles/python_psi4_1...\n",
        "http://pc-chem-basics.blog.jp/archives/28148054.html...\n",
        "本ではアマゾンで\n",
        "https://www.amazon.co.jp/Python%E3%81%A7%E5%8B%95%E3%81%8B%E3%81%97%E3%81%A6%E5%A7%8B%E3%82%81%E3%82%8B%E9%87%8F%E5%AD%90%E5%8C%96%E5%AD%A6%E8%A8%88%E7%AE%97-%E9%87%8E%E7%94%B0-%E7%A7%80%E4%BF%8A/dp/4339066680/ref=sr_1_1?__mk_ja_JP=%E3%82%AB%E3%82%BF%E3%82%AB%E3%83%8A&crid=YXNZOVNAIWPO&keywords=%E9%87%8F%E5%AD%90%E5%8C%96%E5%AD%A6%20%E8%A8%88%E7%AE%97%20python&qid=1707320675&sprefix=%E9%87%8F%E5%AD%90%E5%8C%96%E5%AD%A6%20%E8%A8%88%E7%AE%97%20python%2Caps%2C219&sr=8-1&fbclid=IwAR1nkOYZKEJxttBwUoCody_Ts-dUdNCvgm5kMMBQ66d4_tI1cx5i_pPEPIc\n",
        "が予約できます。こちらは量子化学の基礎をいろいろ書いてあるようで、さらにPsi4というPythonのライブラリを使うようです。\n",
        "高校性あたりだったら、量子論の勉強とともにいろいろやってみても面白いかもしれません。量子論は量子コンピューターや量子計算、量子情報理論、またこれらの量子化学計算は量子コンピューターによる量子化学計算が期待されているようで、実際本も何冊か和書でも出ています。\n",
        "今、一番ホットな部分なのではないでしょうか。門外漢だけどいろいろ好奇心のそそるところなので、調べたことの情報共有です。"
      ],
      "metadata": {
        "id": "lefCgI2lPoRv"
      }
    }
  ]
}