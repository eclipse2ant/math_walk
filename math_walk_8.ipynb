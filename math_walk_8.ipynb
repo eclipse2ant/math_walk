{
  "nbformat": 4,
  "nbformat_minor": 0,
  "metadata": {
    "colab": {
      "provenance": [],
      "include_colab_link": true
    },
    "kernelspec": {
      "name": "python3",
      "display_name": "Python 3"
    },
    "language_info": {
      "name": "python"
    }
  },
  "cells": [
    {
      "cell_type": "markdown",
      "metadata": {
        "id": "view-in-github",
        "colab_type": "text"
      },
      "source": [
        "<a href=\"https://colab.research.google.com/github/eclipse2ant/math_walk/blob/master/math_walk_8.ipynb\" target=\"_parent\"><img src=\"https://colab.research.google.com/assets/colab-badge.svg\" alt=\"Open In Colab\"/></a>"
      ]
    },
    {
      "cell_type": "markdown",
      "source": [
        "#8. 集合\n",
        "## 8.1. 質と量\n",
        "- これまで、ずっと数を中心に扱ってきました、普通の人にとって、量を表してるのに対して代数的構造、そして位相構造、さらには数学的構造に触れてまたその中で思想としての構造主義についても触れてきました。また、数を幾何学的にとらえる $Spaec ~Z$ ならびにアフィンスキームについても触れてきました。知り合いの栄養士さんからい教えてもらった質的研究の方法として[グラウンデッド・セオリー・アプローチ](https://ja.wikipedia.org/wiki/%E3%82%B0%E3%83%A9%E3%82%A6%E3%83%B3%E3%83%87%E3%83%83%E3%83%89%E3%83%BB%E3%82%BB%E3%82%AA%E3%83%AA%E3%83%BC) というものがあります。手作業でテキストを扱うのは、今の自然言語処理の進歩、例えば[BERT](https://crystal-method.com/topics/bert/#:~:text=BERT%E3%81%A8%E3%81%AF%E3%80%81Transformer%E5%8F%8C%E6%96%B9,%E3%81%AE%E3%83%A2%E3%83%87%E3%83%AB%E3%81%AE%E4%B8%80%E7%A8%AE%E3%81%A7%E3%81%99%E3%80%82) とかあるいは　Pythonでの[NLTK](https://www.nltk.org/index.html) とか日本語でもいろいろな自然言語処理の本やツールが出てる時代なのでもう少しやり方があるような気ましすが、とにかく統計的な量による扱いではない扱い。ただこれまで見た通り、数を量と見るかは、数学の観点からするともっと違うアプローチがあっても、ただそれらに携わる人たちが現代数学の基礎知識を知らないからでは？　って思ったりもします。"
      ],
      "metadata": {
        "id": "9-PPJfmrItBC"
      }
    },
    {
      "cell_type": "markdown",
      "source": [
        "## 8.2. 集合論とカントール\n",
        "- これまで議論で、数学的構造というものを扱ってきました。そのなかで、入れ物というか集合の存在、ないしは集合論の言葉、例えば、写像などの概念が重要なことは、わかってもらえると思います。この **<font color=\"red\">\"集合 (Set)\"</font>** という概念は、実は２０世紀になってはじめて現れた概念で、カントールという一人の数学者によって考えられたものです。しかしカントールは、ちょうど非ユークリッド幾何学が迫害されたように、集合論のおかげで迫害されます。それは　無限集合も集合は扱えます。しかし実無限なものは神しかないということで、無限を扱うことへの宗教的なタブーに触れたらしいのですが。。。"
      ],
      "metadata": {
        "id": "XcvLYUaKb3k4"
      }
    },
    {
      "cell_type": "markdown",
      "source": [
        "- ただし宗教的なことは別として、無限を扱うことは実はそうたやすくありません。すべての考えれうる対象物かなる集合といった場合、この集合は自分自身を要素に持ちます。では、自分自身を要素に持たない集合全体からなる集合は、自分自身を要素に持つか？ すなわち<br>\n",
        "\n",
        "\\begin{equation}\n",
        "\\Phi= \\{M \\notin M \\mid  M \\text{は集合}\\}\n",
        "\\end{equation}<br>\n",
        "\n",
        "　　　において、 $\\Phi \\notin  \\Phi$ かそれとも $\\Phi \\in \\Phi$ か？"
      ],
      "metadata": {
        "id": "8IlGkWdZi9MT"
      }
    },
    {
      "cell_type": "markdown",
      "source": [
        "- これはパラドクスになります。有名なラッセルパラドクスです。集合は必ず要素になるかならないかはっきりしたものが集合です。つまり単純な定義なのにその扱う対象が無限を含み、大きすぎて、定義に矛盾をもってしまう。じゃあ、ちゃんとした定義は？　これぞ形式主義でヒルベルトが「誰もカントールの楽園から我々追い出すことはできない」といって、集合論の定義を与えようとしましたが、ここで有名な**<font color=\"red\">ゲーデルの不完全性定理</font>**が出てくるのです。"
      ],
      "metadata": {
        "id": "k6-5iMwroT98"
      }
    }
  ]
}