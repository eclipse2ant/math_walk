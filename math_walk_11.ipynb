{
  "nbformat": 4,
  "nbformat_minor": 0,
  "metadata": {
    "colab": {
      "provenance": [],
      "include_colab_link": true
    },
    "kernelspec": {
      "name": "python3",
      "display_name": "Python 3"
    },
    "language_info": {
      "name": "python"
    }
  },
  "cells": [
    {
      "cell_type": "markdown",
      "metadata": {
        "id": "view-in-github",
        "colab_type": "text"
      },
      "source": [
        "<a href=\"https://colab.research.google.com/github/eclipse2ant/math_walk/blob/master/math_walk_11.ipynb\" target=\"_parent\"><img src=\"https://colab.research.google.com/assets/colab-badge.svg\" alt=\"Open In Colab\"/></a>"
      ]
    },
    {
      "cell_type": "markdown",
      "source": [
        "#11. 機械学習、ディープラーニング、統計学\n"
      ],
      "metadata": {
        "id": "9-PPJfmrItBC"
      }
    },
    {
      "cell_type": "markdown",
      "source": [
        "- この講義は、どちらかというと文系の学生さん向けに書いてます。文系の学生でも、避けて通れないのがエビデンスのため統計学、また今日の状況として、ディープラーニング（深層学習）や機械学習への関りは避けて通れません。"
      ],
      "metadata": {
        "id": "qLqoTZenTOqh"
      }
    },
    {
      "cell_type": "markdown",
      "source": [
        "- その際にどうしても必要なのが微積分の知識それも多変数の場合の話で偏微分や重積分が必要で、統計学では重回帰や因子分析などの多変量解析、またロジステック回帰などの一般化線形モデル、またベイズ統計の知識、あるいは時系列解析などの知識が今後ますます必要になってきます。今日、自然言語処理、BERTなどでは次元削減、行列を使うので線形代数の知が。また画像処理、さらには自動運転（例えば　雑誌Interface の2023年4月号）はでディーラーニングの特集　自動運転のデータ作りでJetson TensorRT、あるいはTransformer　とかが特有記事です。[雑誌　interface 2023年4月号](https://shop.cqpub.co.jp/hanbai/books/MIF/MIF202304.html)。"
      ],
      "metadata": {
        "id": "LlVhkIXBTFmg"
      }
    },
    {
      "cell_type": "markdown",
      "source": [
        "- 経済ではNFTなどの仮想通貨やブロックチェーンがらみの話、フィンテックというITやAIをふんだんに使った市場経済。教育も今後大きく変わってくるでしょう（ていうか既にに変わってきてるけど、頭の固いに日本人は遅れてるのかも。教育のDX）。"
      ],
      "metadata": {
        "id": "teQYsJTbTg1p"
      }
    },
    {
      "cell_type": "markdown",
      "source": [
        "- ここでは、微積分の多変数の場合、重積分も含めて、概念的なことをイメージ的につかんでもらおうと思います。細かい計算は、おそらく、コンピューターがやってくれるでしょう。"
      ],
      "metadata": {
        "id": "lJ7-c5dUTx0J"
      }
    },
    {
      "cell_type": "markdown",
      "source": [
        "- 例えば統計ソフトのR や　Pythonを使ったデータサイエンス、基本はmatlibplot numpy Pandas その他の統計計算ライブラリーやTensorflowなどなど、つまり概念や原理をしておく必要はあるけど計算はこれらのソフトをつかう、要はそのソフトのやってるkとがわからないとその出力結果がわからない。だから微積といっても普通の微積をやっても役に立たない。ビッグデータだと100万とか100億個の変数が出てくるらしいです。そこで計算機に出てくることで何を見るかは普通の微積分の話とは違いますよね。でも概念は大切です。そのつもりで学んでください。"
      ],
      "metadata": {
        "id": "7lqsjudJT9LY"
      }
    },
    {
      "cell_type": "markdown",
      "source": [
        "##11.1.  1変数の微分について\n",
        "- まず $f: {\\mathbb R}  \\longrightarrow {\\mathbb R}$ が微分可能であるとき、$x_0$での微分について考えてみよう。微分とは、$(x_0,f(x_0))$ で接線を引くことです。この傾きが微分係数です。　Tangent_space.pdf　の(a) を見てください。その接線とは、線形写像で、微分とは線形写像で近似することです。これを(b)のように描き直してみましょう。(b)におけるピンクの線は、$x_0, f(x_0)$ のそれぞれの点で${\\mathbb R}$を新たに設けてそこで(a)においての1次関数（つまり線形写像）を描いてます。このピンクの線はそれぞれの点における ${\\mathbb R}$ の **接空間** といい、それぞれ $T_{x_0}({\\mathbb R}),\\  T_{f(x_0)}({\\mathbb R})$ と表します。"
      ],
      "metadata": {
        "id": "QWaXsNTUUA4I"
      }
    }
  ]
}