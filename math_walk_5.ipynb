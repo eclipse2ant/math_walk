{
  "nbformat": 4,
  "nbformat_minor": 0,
  "metadata": {
    "colab": {
      "provenance": [],
      "include_colab_link": true
    },
    "kernelspec": {
      "name": "python3",
      "display_name": "Python 3"
    },
    "language_info": {
      "name": "python"
    }
  },
  "cells": [
    {
      "cell_type": "markdown",
      "metadata": {
        "id": "view-in-github",
        "colab_type": "text"
      },
      "source": [
        "<a href=\"https://colab.research.google.com/github/eclipse2ant/math_walk/blob/master/math_walk_5.ipynb\" target=\"_parent\"><img src=\"https://colab.research.google.com/assets/colab-badge.svg\" alt=\"Open In Colab\"/></a>"
      ]
    },
    {
      "cell_type": "markdown",
      "source": [
        "#5. 数学的構造\n",
        "## 5.1. 数について（再論）\n",
        "- 普通の人にとっての数は、量であり大きさを表すものでしたが、数とは集合として考え、その中に代数的構造（特に**<font color=\"red\">体（Field）</font>**の構造）がはいってるもので、さらに必要に応じて、大小関係を扱う順序構造や極限や連続性を扱う位相構造などの数学的構造がはいった対象物となります。"
      ],
      "metadata": {
        "id": "9-PPJfmrItBC"
      }
    },
    {
      "cell_type": "markdown",
      "source": [
        "##5.2. 位相空間　連続写像　同型\n",
        "- 位相空間とは集合にその部分集合に対して、開集合であるかないか、定められた集合のことでした。一つの集合に入る位相構造はいくつもあります。今　位相空間$X,Y$ に対して、$X$から$Y$ への写像$f$ に対して、$f$ が連続であるとは、$A ~(\\subset Y)$ をYの開集合としたとき、必ず $f^{-1}(A)$ が $X$ の開集合になるときを言います。ここで $f^{-1}(A)=\\{x \\in X \\mid  f(x) \\in A \\}$  であり、これを $f$ による$A$の逆像といいます。つまり、開集合の逆像がいつでも開集合になる写像が連続写像です。\n",
        "\n"
      ],
      "metadata": {
        "id": "UipdmciLYTDz"
      }
    },
    {
      "cell_type": "markdown",
      "source": [
        "- $f$ がさらに全単射かつ $f$ の逆写像もまた連続のとき、$f$ を位相同型写像とか同相写像、英語では Homeomorphism といいます。$X$と$Y$に同相写像が存在するとき、$X$ と $Y$ は位相同型または同相といいます。このとき、位相空間としては、まったく同じものです。同じ位相構造を持ってるわけです。例えば三角形と正方形と円は全部、位相同型、位相同型なものがもつ性質を位相不変量といい、これを研究する幾何学を位相幾何学またはトポロジーといいます。よくトポロジスは、ドーナツとコーヒーカップの区別のつかない人だって冗談交じりで言いますが、この二つも位相同型です。位相不変量で有名なのは、やや専門的になりますが、ホモロジーやコホモロジーないしは（コ）ホモトピーになります。これらは位相構造を代数的構造で表したものなります。こういう分野を代数的位相幾何学といいますが、その典型例としてるのが、ポアンカレ予想やさらにそれを一般化したサーストンの幾何化予想で、ペレルマンによって証明されました。"
      ],
      "metadata": {
        "id": "W8_GG2wnckEr"
      }
    },
    {
      "cell_type": "markdown",
      "source": [
        "## 5.3. 代数的構造\n",
        "- 代数的構造における同型とは、二つの集合にそれぞれ積が入っているときに写像が積に関して、**3.2**の(2) のように積を保ち、かつ全単射な写像が存在するときを言います。この時、二つの代数的構造は表現は違うだけで同じもの表しているわけです。"
      ],
      "metadata": {
        "id": "OHkHkdYhtAdL"
      }
    },
    {
      "cell_type": "markdown",
      "source": [
        "## 5.4. 数学的構造　ブルバキ\n",
        "- 数学的構造とは　集合の中にいろんな構造を入れて見ることで、数学を見る立場ですが、こういう基礎づけをなしたのは、フランスの数学者のグループ集団でブルバキによるもので、「数学原論」としてまとめられています。尚、現代の数学はこの影響を受けながらもさらに発展して、圏論中心になってきています。この点についてはご後述します。 "
      ],
      "metadata": {
        "id": "Ar0NSH8Pur7U"
      }
    }
  ]
}