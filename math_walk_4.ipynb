{
  "nbformat": 4,
  "nbformat_minor": 0,
  "metadata": {
    "colab": {
      "provenance": [],
      "include_colab_link": true
    },
    "kernelspec": {
      "name": "python3",
      "display_name": "Python 3"
    },
    "language_info": {
      "name": "python"
    }
  },
  "cells": [
    {
      "cell_type": "markdown",
      "metadata": {
        "id": "view-in-github",
        "colab_type": "text"
      },
      "source": [
        "<a href=\"https://colab.research.google.com/github/eclipse2ant/math_walk/blob/master/math_walk_4.ipynb\" target=\"_parent\"><img src=\"https://colab.research.google.com/assets/colab-badge.svg\" alt=\"Open In Colab\"/></a>"
      ]
    },
    {
      "cell_type": "markdown",
      "source": [
        "#4. 極限、連続、位相構造\n",
        "## 4.1.  $\\varepsilon -\\delta$ 論法\n",
        "- 極限は、高校数学と”限りなく近づく”なんて意味不明な言葉でごまかされます。ここで出てくるのが、まあ、理学部の数学科以外ではあまり出てこない厳密な極限の定義すなわち $\\varepsilon -\\delta$ 論法です　これついては　数で見ると１次元で、わかりにくいの平面つまり２次元で考える方がわかりやすいです。[極限の定義  $\\varepsilon -\\delta$ 論法](https://drive.google.com/file/d/1JkL8aAeAUSJQqE8NS6EYbuDz8kElHZqV/view?usp=sharing)　を見てください。ここで重要なのは、点を中心とする半径 $ɛ$  の円板（円のふちは含まない）を考えることです。\n",
        "数の場合、つまり１次元だと $(a-\\varepsilon,~ a+\\varepsilon)$ という開区間になります。"
      ],
      "metadata": {
        "id": "9-PPJfmrItBC"
      }
    },
    {
      "cell_type": "markdown",
      "source": [
        "##4.2.  開集合\n",
        "- 実数$ R$ や 平面 $R^2$ において、極限を定義しました。同時に連続 $\\lim_{x \\to x_0 }f(x) = f(x_0) $ が 「$f$ が $x=x_0$ において連続である」の定義です、すべての点で連続の時、$f$ を連続関数といいます。　平面で言えば 半径が $\\varepsilon$ や $\\delta$ のふちを含まない円版（これを開円板という）たちで定義しました。"
      ],
      "metadata": {
        "id": "UipdmciLYTDz"
      }
    },
    {
      "cell_type": "markdown",
      "source": [
        "- もっと一般に集合に極限を定義するにどうしたらいいでしょうか。半径 $\\varepsilon$ の開円板　なんて作れませんよね。そこで前の定義を開円板を使わないで定義したい。そこで間集合という概念を使います。今の場合、開集合$A$ とは $A$ の元$a$に対して$\\epsilon$ が十分小さければ、その点を中心とする$D_\\varepsilon (a)$\n",
        "が$A$に含まれる　集合を言います。そうすると　開円板をその点を含む開集合という言葉に置き替えられます。こういう開集合たちは　それらに対してある性質をもちます。この性質を用いて、一般の集合の時に開集合を定義してあげれば、一般の集合に極限や連続の概念が定義できます。これが位相構造であり位相構造が入った集合を位相空間といいます。"
      ],
      "metadata": {
        "id": "W8_GG2wnckEr"
      }
    }
  ]
}