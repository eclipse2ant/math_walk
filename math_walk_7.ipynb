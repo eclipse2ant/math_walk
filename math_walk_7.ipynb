{
  "nbformat": 4,
  "nbformat_minor": 0,
  "metadata": {
    "colab": {
      "provenance": [],
      "include_colab_link": true
    },
    "kernelspec": {
      "name": "python3",
      "display_name": "Python 3"
    },
    "language_info": {
      "name": "python"
    }
  },
  "cells": [
    {
      "cell_type": "markdown",
      "metadata": {
        "id": "view-in-github",
        "colab_type": "text"
      },
      "source": [
        "<a href=\"https://colab.research.google.com/github/eclipse2ant/math_walk/blob/master/math_walk_7.ipynb\" target=\"_parent\"><img src=\"https://colab.research.google.com/assets/colab-badge.svg\" alt=\"Open In Colab\"/></a>"
      ]
    },
    {
      "cell_type": "markdown",
      "source": [
        "#7. 数論を幾何で\n"
      ],
      "metadata": {
        "id": "9-PPJfmrItBC"
      }
    },
    {
      "cell_type": "markdown",
      "source": [
        "## 7.1. $Z$ と $C[X]$\n"
      ],
      "metadata": {
        "id": "ibxU2b52r0Ri"
      }
    },
    {
      "cell_type": "markdown",
      "source": [
        "- アンドレ・ヴェイユというと、有名な女性思想家、シモーヌ・ヴェイユのお兄さんです。数論を代数幾何学で解こうとしたのは彼であり、それを具体的に実現していったのはグロタンディークのスキーム理論になります。まず整数 $Z$ と 複素係数の多項式全体$C[X]$ の比較から始めましょう。"
      ],
      "metadata": {
        "id": "-2R7wnawr2Z6"
      }
    },
    {
      "cell_type": "markdown",
      "source": [
        "- 私たちは小学校で数について学びます。整数、足し算、引き算、掛け算、割り算は余りが出ますよね。また引き算はこれまでの学びから、和に関しての逆元（すなわち足して０になる数）を足すことでした。これは環という代数的構造です。さらに中学校で式の計算を学びます。このとき整数での学びが生かされます。つまり整数$Z$ と　多項式環$C[X]$ 似たような代数的構造をしています。[arithmetic geom](https://drive.google.com/file/d/1jbxkstraK9OTSugMudQ4DxO9ilW-MAQ3/view?usp=sharing) に書いたように、素因数分解と多項式の一次式への分解（代数学の基本定理）が対応しています。また、多項式における代入という操作は割り算の余りをとる操作に対応しており、逆に勝手な整数$n$ に対して、素数$p$ を**<font color=\"red\">\"代入\"</font>**するという操作を $n \\equiv n(p) ~ mod ~p$ つまり$n$ を$p$ で割った余り$n(p)$ を求めることだとします。今 素数全体を集合を　$M$ だとすると整数$n$ を$M$上の関数と思うことができます。さてこれで　多項式は$C$上の関数、整数$n$ は $M$ 上の関数と思えます。もう少し見方を変えていきます。ここでは関数を層の言葉に置き替えます。層については、後で説明しますが、まず空間$M$ や $C$ に位相構造を定義します。"
      ],
      "metadata": {
        "id": "W8_GG2wnckEr"
      }
    },
    {
      "cell_type": "markdown",
      "source": [
        "## 7.2. ザリスキー位相"
      ],
      "metadata": {
        "id": "6yd4KNSDdu3k"
      }
    },
    {
      "cell_type": "markdown",
      "source": [
        "- [arithmetic geom](https://drive.google.com/file/d/1jbxkstraK9OTSugMudQ4DxO9ilW-MAQ3/view?usp=sharing) に書いたように、ザリスキー位相を定めます。位相があると、連続、極限が論じられると前に述べました。その他にもう一つ、実はこちらの方が重要なのですが、局所、大域の区別ができる、つまりある点の十分近い所というのが局所ですね。ある点を含む開集合上に関数を制限することや、その狭い領域でしか定義できない関数が現れます。今の場合、開集合は、基本的に有限個の点を除いた集合です。その有限個の点では０にならない数　または多項式を分母に持ってくる。つまりその有限個の因子を約数に持たない数また多項式を分母にもった分数や有理式を考えることができます。これって、有限個のの点ですが、いくらでも抜くことだできますよね。この極限的状況を帰納的極限また$colimit$または順極限という概念で定義できます。詳しいことは、[arithmetic geom](https://drive.google.com/file/d/1jbxkstraK9OTSugMudQ4DxO9ilW-MAQ3/view?usp=sharing) を見てください。ここで順序構造というか順序関係と同様大事な関係概念である同値関係を使います。同値関係については、自分でいろいろ調べてみてください。"
      ],
      "metadata": {
        "id": "jHMJb1NHOisG"
      }
    },
    {
      "cell_type": "markdown",
      "source": [
        "## 7.3. 層、茎"
      ],
      "metadata": {
        "id": "bbO3FyD8d3Jj"
      }
    },
    {
      "cell_type": "markdown",
      "source": [
        " - $\\cal F_p$ や $\\cal F_\\alpha$ を$\\cal F$ の$x$ または $\\alpha$ でのstalk（茎)といいます。$\\cal F$ をSheaf(層) といいます。層に関してはまた圏論を扱う際にも触れますが、層を使うと、実際関数でなくても、関数のように扱うことが可能になって、いろんな一般化ができます。また　今の話を$Z$ や $C[X]$ から一般の可換環$A$ で話をするには、[arithmetic geom](https://drive.google.com/file/d/1jbxkstraK9OTSugMudQ4DxO9ilW-MAQ3/view?usp=sharing) に書いたように、イデアルで考えて、${\\rm Spec} ~A$  として素イデアル全体の集合を考えます。これをアフィンスキームといいます。この考え方で言うとき$M$ や $C$ は　Mに$0$ を加え、さらに$C$ の方は複素数$\\alpha$ を $(X-\\alpha)$ と対応させて、$C[X]$ で考えて　さらに$0$ を加えます。加える理由は、素イデアルに$0$イデアルが含まれるからです。 "
      ],
      "metadata": {
        "id": "WGxEI1U8f1O6"
      }
    },
    {
      "cell_type": "markdown",
      "source": [
        "- この$0$ はザリスキー位相では 閉包をとると全体に一致する、こういう点を生成点(generic point) といいます。ちなみにこの点でのstalk は　$Q$ または、有理式全体$C(X)$　になります。"
      ],
      "metadata": {
        "id": "RWUR7_qdc5nM"
      }
    },
    {
      "cell_type": "markdown",
      "source": [
        "## 7.4. 幾何で数論\n"
      ],
      "metadata": {
        "id": "Cli7gwkMeGVL"
      }
    },
    {
      "cell_type": "markdown",
      "source": [
        "- いかかでしたか、数を幾何で扱う、綺麗だと思いませんか。数学のもつ美しさであり、決して難しい話ではありませんよね。"
      ],
      "metadata": {
        "id": "AG9N1kcBsXp0"
      }
    }
  ]
}