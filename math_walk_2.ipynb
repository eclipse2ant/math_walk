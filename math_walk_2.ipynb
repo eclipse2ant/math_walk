{
  "nbformat": 4,
  "nbformat_minor": 0,
  "metadata": {
    "colab": {
      "provenance": [],
      "include_colab_link": true
    },
    "kernelspec": {
      "name": "python3",
      "display_name": "Python 3"
    },
    "language_info": {
      "name": "python"
    }
  },
  "cells": [
    {
      "cell_type": "markdown",
      "metadata": {
        "id": "view-in-github",
        "colab_type": "text"
      },
      "source": [
        "<a href=\"https://colab.research.google.com/github/eclipse2ant/math_walk/blob/master/math_walk_2.ipynb\" target=\"_parent\"><img src=\"https://colab.research.google.com/assets/colab-badge.svg\" alt=\"Open In Colab\"/></a>"
      ]
    },
    {
      "cell_type": "code",
      "metadata": {
        "id": "vVh2KHZIMKX9"
      },
      "source": [],
      "execution_count": null,
      "outputs": []
    },
    {
      "cell_type": "markdown",
      "source": [
        "#3. 代数的構造\n",
        "##3.1. 写像の全単射について\n",
        "- 空でない集合$A,B$ と、写像$f: A \\longrightarrow B$　に対して、\n",
        "\n",
        "    (1). $f(a_1)= f(a_2) 　\\Longrightarrow  　a_1=  a_2$\n",
        "\n",
        "    (2) 任意の $B$ の元 $b$ に対して $f(a)=b$ をみたす$A$の 元 $a$ が 存在する\n",
        "\n",
        "  を満たすとき、$f$ は　全単射　であるといいます。この時、$f$ は逆写像が存在します。(1) だけの時は　単射　(2) だけの時は全射といいます。\n",
        "\n",
        "- 要するに砕いた言い方をすると、例えば　女の子の集合から男の子の集合への写像というのは、すべての女子が必ず彼氏がいる！　ただし一人であって二人以上の彼氏はご法度。  男性側からみると彼女は必ずしもいるとは限らない、だけど複数人持つことは可能。もし彼女が複数人持てないとしたときが単射、必ず彼女がいるときが全射です。"
      ],
      "metadata": {
        "id": "MM8ryaDDTKGu"
      }
    },
    {
      "cell_type": "markdown",
      "source": [
        "##3.2. 同型写像\n",
        "- 今、実数の集合$R$と正の実数の集合$R_+$ があるとします。$R$から$R_+$への写像 $f$ を $f(x)=2^x$ で定めます。このとき　$f$ は全単射でさらに<br><br>\n",
        "\\begin{equation}\n",
        "f(x+y) = f(x)f(y)\n",
        "\\end{equation}<br>\n",
        "が成り立ちます。これは、指数関数の指数定理ですね。このような $f$ のことを同型写像といいます。 $f$ が　単射は　狭義単調増加から　前者は　$\\lim_{x \\to - \\infty} f(x) = 0$ , $lim_{x \\to  \\infty} f(x) = \\infty  $ と指数関数が連続なことと、中間値の定理から導けます。<br><br>\n",
        "\n",
        "\n",
        "- ここで肝心なことは、$R$における和の代数的構造が$R_+$における積の代数的構造に置き換わったことです。つまり両者は同じものを表現してるわけで、その表現してるものがが代数的構造であり特にアーベル群の構造、つまり両者はアーベル群としては同じものであり、異なる実現をしただけなわけです。"
      ],
      "metadata": {
        "id": "HDRV59bliGv6"
      }
    },
    {
      "cell_type": "markdown",
      "source": [],
      "metadata": {
        "id": "dSaS51fzTIyn"
      }
    }
  ]
}