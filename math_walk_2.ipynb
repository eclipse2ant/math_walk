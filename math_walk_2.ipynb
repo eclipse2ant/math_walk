{
  "nbformat": 4,
  "nbformat_minor": 0,
  "metadata": {
    "colab": {
      "provenance": [],
      "include_colab_link": true
    },
    "kernelspec": {
      "name": "python3",
      "display_name": "Python 3"
    },
    "language_info": {
      "name": "python"
    }
  },
  "cells": [
    {
      "cell_type": "markdown",
      "metadata": {
        "id": "view-in-github",
        "colab_type": "text"
      },
      "source": [
        "<a href=\"https://colab.research.google.com/github/eclipse2ant/math_walk/blob/master/math_walk_2.ipynb\" target=\"_parent\"><img src=\"https://colab.research.google.com/assets/colab-badge.svg\" alt=\"Open In Colab\"/></a>"
      ]
    },
    {
      "cell_type": "markdown",
      "source": [
        "#3. 代数的構造"
      ],
      "metadata": {
        "id": "IPu_fhYJtiDZ"
      }
    },
    {
      "cell_type": "markdown",
      "source": [
        "##3.1. 写像の全単射について"
      ],
      "metadata": {
        "id": "00pvq15Jtd9Z"
      }
    },
    {
      "cell_type": "markdown",
      "source": [
        "\n",
        "- 空でない集合$A,B$ と、写像$f: A \\longrightarrow B$　に対して、\n",
        "\n",
        "    (1). $f(a_1)= f(a_2) 　\\Longrightarrow  　a_1=  a_2$\n",
        "\n",
        "    (2) 任意の $B$ の元 $b$ に対して $f(a)=b$ をみたす$A$の 元 $a$ が 存在する\n",
        "\n",
        "  を満たすとき、$f$ は　全単射　であるといいます。この時、$f$ は逆写像が存在します。(1) だけの時は　単射　(2) だけの時は全射といいます。"
      ],
      "metadata": {
        "id": "MM8ryaDDTKGu"
      }
    },
    {
      "cell_type": "markdown",
      "source": [
        "- 要するに砕いた言い方をすると、例えば　女の子の集合から男の子の集合への写像というのは、すべての女子が必ず彼氏がいる！　ただし一人であって二人以上の彼氏はご法度。  男性側からみると彼女は必ずしもいるとは限らない、だけど複数人持つことは可能。もし彼女が複数人持てないとしたときが単射、必ず彼女がいるときが全射です。"
      ],
      "metadata": {
        "id": "fVYn-Z98tZnI"
      }
    },
    {
      "cell_type": "markdown",
      "source": [
        "##3.2. 同型写像"
      ],
      "metadata": {
        "id": "BDNi_9hct5tQ"
      }
    },
    {
      "cell_type": "markdown",
      "source": [
        "- 両者の代数的構造が同じときその対応させてる写像のことを**同型写像** というのですが、代数的構造とは、集合の二つの元に、一つの元を対応させた対応を言うのですが、[代数的構造とは.pdf](https://drive.google.com/file/d/1cbqIYxgSPhR-Fx9VvnYfFMbiMqL9K8sW/view?usp=share_link) を見てください。"
      ],
      "metadata": {
        "id": "8UbL0UXZOAF8"
      }
    },
    {
      "cell_type": "markdown",
      "source": [
        "- 実数の集合$R$と正の実数の集合$R_+$ があるとします。$R$から$R_+$への写像 $f$ を $f(x)=2^x$ で定めます。このとき　$f$ は全単射でさらに<br><br>\n",
        "\\begin{equation}\n",
        "f(x+y) = f(x)f(y)\n",
        "\\end{equation}<br>が成り立ちます。これは、指数関数の指数定理ですね。このような $f$ のことを同型写像といいます。 $f$ が　単射は　狭義単調増加から　全射は　$\\lim_{x \\to - \\infty} f(x) = 0$ , $lim_{x \\to  \\infty} f(x) = \\infty  $ と指数関数が連続なことと、中間値の定理から導けます。"
      ],
      "metadata": {
        "id": "AgpKDfYHuTCw"
      }
    },
    {
      "cell_type": "markdown",
      "source": [
        "- ここで肝心なことは、$R$における和の代数的構造が$R_+$における積の代数的構造に置き換わったことです。つまり両者は同じものを表現してるわけで、その表現してるものが代数的構造であり特にアーベル群の構造、つまり両者はアーベル群としては同じものであり、異なる実現をしただけなわけです。"
      ],
      "metadata": {
        "id": "HDRV59bliGv6"
      }
    },
    {
      "cell_type": "markdown",
      "source": [
        "##3.3. 数について\n",
        "- 構造については、また後でもふれます。ここでは数についてさらに考察を深めましょう。これまでのところ、普通、人が考える数とは大きさを表すものですが、数とは、それらを集まりとして考える、例えば自然数、整数、有理数、実数とかです。これらは大きさというより、いろんな操作、足し算、引き算、掛け算、割り算といった操作ができるように拡張されてきました。特に**<font color=\"red\">代数的構造</font>** の方がむしろ数を数として特徴づけてる。数の大小というのは、**<font color=\"red\">順序関係</font>**という別の構造になります。ただし、すべての数が大小関係を持つわけではありません、例えば複素数は大小関係がないです。"
      ],
      "metadata": {
        "id": "A2T0Mm22uZlo"
      }
    },
    {
      "cell_type": "markdown",
      "source": [
        "###3.3.1. 複素数について"
      ],
      "metadata": {
        "id": "OsuyS-n9uJLy"
      }
    },
    {
      "cell_type": "markdown",
      "source": [
        "- 複素数は　$x^2 =-1$ といった方程式を解くためには必要です。しかし理系関係以外であまり　複素数を使うことはことはないでしょう。理由は、普通の社会では数は量や大きさを表すために使われるので　$\\sqrt{-1}$ 円とか　$\\sqrt{-1}$ キロカロリー摂取したとか言いませんよね。しかし数学、物理、化学　また工学において複素数は必須です。複素数まで広げないと方程式は解がありません、また複素数の中に必ず解があります。これを代数学の基本定理　あるいは、複素数は代数的に閉じた体（代数的閉体）といいます。、また複素解析学は、微分は一回できれば無限回できますし、級数展開ないしはローラン展開などできるし、積分もコーシーの積分定理や留数定理といった非常にきれいな世界になっています。また　オイラーの公式 $e^{i\\theta} = \\cos \\theta + i\\sin \\theta$  で　$(e^x)' =  e^{x}$ といったところで、いろんなものに使われます。有名どころでは　電磁気のゲージ場のゲージ群として使われ、これを量子化した世界がQED いわゆる量子電磁力学で、ゲージ粒子である光子（フォトン）つまり光ですが、これと電子との相互作用において、化学反応がおこってるわけですね。"
      ],
      "metadata": {
        "id": "dSaS51fzTIyn"
      }
    }
  ]
}