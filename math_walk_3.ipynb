{
  "nbformat": 4,
  "nbformat_minor": 0,
  "metadata": {
    "colab": {
      "provenance": [],
      "include_colab_link": true
    },
    "kernelspec": {
      "name": "python3",
      "display_name": "Python 3"
    },
    "language_info": {
      "name": "python"
    }
  },
  "cells": [
    {
      "cell_type": "markdown",
      "metadata": {
        "id": "view-in-github",
        "colab_type": "text"
      },
      "source": [
        "<a href=\"https://colab.research.google.com/github/eclipse2ant/math_walk/blob/master/math_walk_3.ipynb\" target=\"_parent\"><img src=\"https://colab.research.google.com/assets/colab-badge.svg\" alt=\"Open In Colab\"/></a>"
      ]
    },
    {
      "cell_type": "markdown",
      "source": [
        "###3.2.2 実数について\n",
        "- ここで実数について触れておきましょう。私たちが普通に使ってる数では、小数点を使ったりします。どちらかというと、分数は実社会ではあまり使われませんよね。一つの理由として、分数同士の大小の比較は分母を同じにしないといけなくめんどくさいわけです。それに比べると小数の方は簡単です。数を大きさを測る尺度として、とらえてるからでしょうね。でも数はその存在過程で四則演算を自由に行えるように数が作らてますから、代数的構造が存在することが大事です。小数の場合　１を３で割る際\n",
        "$0.3333\\cdots$ と循環小数では書けますが普通は途中で切っちゃいますよね。一方分数では$\\frac{1}{3}$ とすっきり書けます。小数は、本来、小数点以下に無限の数字が並びます。つまり無限列が表れてきて、無限の概念、ないしは極限の概念が必要になります。極限という操作は新しい操作です。また　累乗という操作もあります。方程式を考える際、ルートや3乗根などの冪の操作の逆操作が必要になり、これらの操作で数が閉じるように数が拡張されます。ｎ乗根という操作は、$\\sqrt{3}$ のような無理数、つまり有理数でない数、分数で表わされない数がでてきます。"
      ],
      "metadata": {
        "id": "9-PPJfmrItBC"
      }
    },
    {
      "cell_type": "markdown",
      "source": [
        "###3.2.3 極限操作と代数的数\n",
        "- 数を拡張してく過程で、極限操作と累乗根といった代数方程式を解く操作といった操作において必要になるように数は拡張されてきました。$\\sqrt{3}$ は$x^2=3$という方程式の正の解です。このような係数が有理数の方程式の解になる数を**<font color=\"red\">代数的数</font>**といいます。それに対して、それ以外の複素数を超越数といいます。$e$ や $\\pi$ は超越数です。実数で超越数は、$e$ や $\\pi$ 以外では、もうなくて、全部　あとはルートみたいな無理数か思ったら大間違いです。超越数の方がはるかに多くて、集合の濃度の話はしていませんが、代数的数は可算集合ですが、実数は連続濃度で可算集合より大きいですから、当然、超越数も連続濃度になります。"
      ],
      "metadata": {
        "id": "UipdmciLYTDz"
      }
    },
    {
      "cell_type": "markdown",
      "source": [
        "- 実数とは有理数を極限操作で閉じるように拡張した数です。これは小数です。循環小数は分数で表されますから、循環しない小数は有理数です。また分数は必ず循環小数で表されます。ここでは後ろにずっと０がついた循環小数と思ってしまいましょう。[証明](https://www.youtube.com/watch?v=BXeuhAX6jiE) とかです"
      ],
      "metadata": {
        "id": "W8_GG2wnckEr"
      }
    }
  ]
}