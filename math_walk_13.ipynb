{
  "nbformat": 4,
  "nbformat_minor": 0,
  "metadata": {
    "colab": {
      "provenance": [],
      "include_colab_link": true
    },
    "kernelspec": {
      "name": "python3",
      "display_name": "Python 3"
    },
    "language_info": {
      "name": "python"
    }
  },
  "cells": [
    {
      "cell_type": "markdown",
      "metadata": {
        "id": "view-in-github",
        "colab_type": "text"
      },
      "source": [
        "<a href=\"https://colab.research.google.com/github/eclipse2ant/math_walk/blob/master/math_walk_13.ipynb\" target=\"_parent\"><img src=\"https://colab.research.google.com/assets/colab-badge.svg\" alt=\"Open In Colab\"/></a>"
      ]
    },
    {
      "cell_type": "markdown",
      "source": [
        "#13. 見えざる宇宙のかたち \n"
      ],
      "metadata": {
        "id": "9-PPJfmrItBC"
      }
    },
    {
      "cell_type": "markdown",
      "source": [
        "- シン＝トゥン・ヤウの[「見えざる宇宙のかたち――ひも理論に秘められた次元の幾何学 」](https://www.amazon.co.jp/%E8%A6%8B%E3%81%88%E3%81%96%E3%82%8B%E5%AE%87%E5%AE%99%E3%81%AE%E3%81%8B%E3%81%9F%E3%81%A1%E2%80%95%E2%80%95%E3%81%B2%E3%82%82%E7%90%86%E8%AB%96%E3%81%AB%E7%A7%98%E3%82%81%E3%82%89%E3%82%8C%E3%81%9F%E6%AC%A1%E5%85%83%E3%81%AE%E5%B9%BE%E4%BD%95%E5%AD%A6-%E3%82%B7%E3%83%B3%EF%BC%9D%E3%83%88%E3%82%A5%E3%83%B3%E3%83%BB%E3%83%A4%E3%82%A6/dp/4000060430/ref=sr_1_1?crid=22MPYQC9KOVVL&keywords=%E8%A6%8B%E3%81%88%E3%81%96%E3%82%8B%E5%AE%87%E5%AE%99%E3%81%AE%E3%81%8B%E3%81%9F%E3%81%A1&qid=1677741258&sprefix=%E8%A6%8B%E3%81%88%E3%81%96%E3%82%8B%E5%AE%87%E5%AE%99%E3%81%AE%2Caps%2C195&sr=8-1) は、アティアの本よりは読みやすいです。アティアの本は数学の用語が説明なしに出てきます、ホモトピー、ホモロジー、K理論、リー群、リー環、有限群などなど、それに対して、こちらの本は郎用語は出てくるけど、それなりに説明はしています。"
      ],
      "metadata": {
        "id": "qLqoTZenTOqh"
      }
    },
    {
      "cell_type": "markdown",
      "source": [
        " - 予備知識として書いておきますと。"
      ],
      "metadata": {
        "id": "1DHiWIOOlJ79"
      }
    }
  ]
}