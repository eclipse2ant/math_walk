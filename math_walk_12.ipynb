{
  "nbformat": 4,
  "nbformat_minor": 0,
  "metadata": {
    "colab": {
      "provenance": [],
      "include_colab_link": true
    },
    "kernelspec": {
      "name": "python3",
      "display_name": "Python 3"
    },
    "language_info": {
      "name": "python"
    }
  },
  "cells": [
    {
      "cell_type": "markdown",
      "metadata": {
        "id": "view-in-github",
        "colab_type": "text"
      },
      "source": [
        "<a href=\"https://colab.research.google.com/github/eclipse2ant/math_walk/blob/master/math_walk_12.ipynb\" target=\"_parent\"><img src=\"https://colab.research.google.com/assets/colab-badge.svg\" alt=\"Open In Colab\"/></a>"
      ]
    },
    {
      "cell_type": "markdown",
      "source": [
        "#12. アティア「数学とは何か」から \n"
      ],
      "metadata": {
        "id": "9-PPJfmrItBC"
      }
    },
    {
      "cell_type": "markdown",
      "source": [
        "- この講義もやっと12回です。ふぅ、疲れました。。。　次回も含めて、数学者の書いた本から紹介したいと思います。その一冊はマイケル・F・アティアの[「数学とは何か」](https://www.amazon.co.jp/%E6%95%B0%E5%AD%A6%E3%81%A8%E3%81%AF%E4%BD%95%E3%81%8B%E2%80%95%E3%82%A2%E3%83%86%E3%82%A3%E3%83%A4-%E7%A7%91%E5%AD%A6%E3%83%BB%E6%95%B0%E5%AD%A6%E8%AB%96%E9%9B%86-%E3%83%9E%E3%82%A4%E3%82%B1%E3%83%AB%E3%83%BBF-%E3%82%A2%E3%83%86%E3%82%A3%E3%83%A4/dp/425410247X/ref=sr_1_2?crid=2DMXT532SZVDH&keywords=%E6%95%B0%E5%AD%A6%E3%81%A8%E3%81%AF%E4%BD%95%E3%81%8B&qid=1677741152&sprefix=%E6%95%B0%E5%AD%A6%E3%81%A8%E3%81%AF%E3%81%AA%E3%81%AB%E3%81%8B%2Caps%2C164&sr=8-2)。もう一冊は ヤウつまりシン＝トゥン・ヤウの[「見えざる宇宙のかたち――ひも理論に秘められた次元の幾何学 」](https://www.amazon.co.jp/%E8%A6%8B%E3%81%88%E3%81%96%E3%82%8B%E5%AE%87%E5%AE%99%E3%81%AE%E3%81%8B%E3%81%9F%E3%81%A1%E2%80%95%E2%80%95%E3%81%B2%E3%82%82%E7%90%86%E8%AB%96%E3%81%AB%E7%A7%98%E3%82%81%E3%82%89%E3%82%8C%E3%81%9F%E6%AC%A1%E5%85%83%E3%81%AE%E5%B9%BE%E4%BD%95%E5%AD%A6-%E3%82%B7%E3%83%B3%EF%BC%9D%E3%83%88%E3%82%A5%E3%83%B3%E3%83%BB%E3%83%A4%E3%82%A6/dp/4000060430/ref=sr_1_1?crid=22MPYQC9KOVVL&keywords=%E8%A6%8B%E3%81%88%E3%81%96%E3%82%8B%E5%AE%87%E5%AE%99%E3%81%AE%E3%81%8B%E3%81%9F%E3%81%A1&qid=1677741258&sprefix=%E8%A6%8B%E3%81%88%E3%81%96%E3%82%8B%E5%AE%87%E5%AE%99%E3%81%AE%2Caps%2C195&sr=8-1) です。どちらも大大大数学者者です。カラビ・ヤウ多様体のヤウ、ドナルドソン不変量で有名まドナルドソンやヒッチンの先生であるアティア。"
      ],
      "metadata": {
        "id": "qLqoTZenTOqh"
      }
    },
    {
      "cell_type": "markdown",
      "source": [
        "- アティアの本でp.102～p.129「20世紀における数学」 を題材に取り上げます。それは、K理論と呼ばれるものです。p.116 あたりから書かれてます。直接本の内容には触れません,是非とも読んでみてください。ここでは簡単なK理論の解説を試みたいと思います。とは言っても、この本に触れてるように、K理論は、代数的K理論をはじめ、いろんな分野で顔を出してきます。またいろんな人が関わってきます。グロタンディックのリーマン・ロッホやミルナーやキレンによる代数的K理論、関数解析ではカスバロフ。さらには、アラン・コンヌの非可換幾何学とも関係し、「弦理論」においては、ウィッテンがK理論が「保存量」と呼ばれるものに対しての自然な居場所（これにしろ、コンヌの話しろ私にはまだ理解できていない(^^;)\n",
        "[K理論（Wiki）](https://ja.wikipedia.org/wiki/K%E7%90%86%E8%AB%96), [代数的K理論（Wiki）](https://ja.wikipedia.org/wiki/%E4%BB%A3%E6%95%B0%E7%9A%84K%E7%90%86%E8%AB%96)　[K-theory](http://pantodon.jp/index.rb?body=K#cite.0@math/001221)\n",
        "\n"
      ],
      "metadata": {
        "id": "cD37k9SfGGV0"
      }
    },
    {
      "cell_type": "markdown",
      "source": [
        "- 上記のように多義にわたります。ここでは非常に簡単な場合　可換環$R$ の時の$K_0(R)$ についてふれてみたいと思います。可換環とは$Z$のようなもの、つまり和と差と積があるようなもの、だから$R=Z$ と思ってもらってよいかも。(ここでは$R$ は実数ではないので、混同しないでください。）"
      ],
      "metadata": {
        "id": "dLh8zSPHRZ3g"
      }
    },
    {
      "cell_type": "markdown",
      "source": [
        "- まず、$R$-module すなわち$R$-加群 $M$ とは $M$ は　足し算、引き算があります。別の言い方をすれば、和と単位元$０$と逆元がある、もっと言えば可換でアーベル群です。さらに$x \\in M$に対して$rx$ という $r$倍があります。ここでの写像はすべて準同型、つまり $r$倍 と和を保つ写像です。さて [math_walk-12.pdf](https://drive.google.com/file/d/1SJTSuynsEzKFT8i20MT0EcAgVDhAj1yO/view?usp=share_link) を見てください。 $R$-module $P$ がprojective つまり 射影加群であることの定義とそれと同値な性質(a)、(a)' が書いてあります"
      ],
      "metadata": {
        "id": "Q2umCIDGyfp7"
      }
    },
    {
      "cell_type": "markdown",
      "source": [
        "- $M$ が finitely generated つまり有限生成とは$x_1, x_2, \\cdots ,x_n \\in M$ で　任意の $M$ の元 $x$ が $x_1, x_2, \\cdots ,x_n$の一次結合 すなわち $x=r_1x_1+r_2x_2+\\cdots+r_nx_n ~(r_1,r_2,\\cdots,r_n \\in R)$ とあらわされることです。言い換えれば、$R^n$ から $M$ への全射が存在することと同値です。"
      ],
      "metadata": {
        "id": "X9B_EroFVCk2"
      }
    },
    {
      "cell_type": "markdown",
      "source": [
        "- direct summand とは$M\\oplus N$  という直和の形で書けること、直和は$M,N$ のペアと思うか、あるいは $m+n (m \\in M, n\\in N)$  の形で書けて表し方は一通り、つまり　 $m+n=m' + n'$ なら $m=m', n=n'$ っていうことです。"
      ],
      "metadata": {
        "id": "0xGRzI8oXA5G"
      }
    },
    {
      "cell_type": "markdown",
      "source": [
        " - $Proj(R)$ はしたがって、集合になって、直和で定義することでモノイドになります。つまり 自然数の集合 $N$ のように足し算があって、$0$ があって、引き算はできない。そこでここから負の数を作る、$N$を二つ用意する。つまり単純に言えば　複式簿記で**<font color=\"red\">「借り入れ」</font>** と**<font color=\"red\">「貸し入れ」</font>** で　数字を反対側に持っていくとマイナスがつく。こうやって、足し算の逆操作は　数字の逆元　つまり　$n$ 足すことの逆操作が定義できる。これによって $K_0(R)$ が定義されました。これを$0$次の $K$群って言います。"
      ],
      "metadata": {
        "id": "zNgad8huYed_"
      }
    },
    {
      "cell_type": "markdown",
      "source": [
        "- さらに、可換環 $S$ があって、準同型 $f:R \\longrightarrow S$ があるなら $S\\otimes_{R}M $ で $S$倍の作用を$M$ に定義できて$S$ 加群としてMを見ることができます。これは $K_0(f): K_0(R) \\longrightarrow K_0(S)$ を定めます。つまり $K_0$ は可換環のなすカテゴリーからアーベル群のなすカテゴリーへの共変緩手になってます。"
      ],
      "metadata": {
        "id": "e4MCvxRecT93"
      }
    }
  ]
}